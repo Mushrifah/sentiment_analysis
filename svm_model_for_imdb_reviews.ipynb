{
  "nbformat": 4,
  "nbformat_minor": 0,
  "metadata": {
    "colab": {
      "name": "svm model for imdb reviews.ipynb",
      "version": "0.3.2",
      "provenance": [],
      "include_colab_link": true
    },
    "language_info": {
      "codemirror_mode": {
        "name": "ipython",
        "version": 3
      },
      "file_extension": ".py",
      "mimetype": "text/x-python",
      "name": "python",
      "nbconvert_exporter": "python",
      "pygments_lexer": "ipython3",
      "version": "3.6.4"
    },
    "kernelspec": {
      "name": "python3",
      "display_name": "Python 3"
    },
    "accelerator": "GPU"
  },
  "cells": [
    {
      "cell_type": "markdown",
      "metadata": {
        "id": "view-in-github",
        "colab_type": "text"
      },
      "source": [
        "<a href=\"https://colab.research.google.com/github/Mushrifah/sentiment_analysis/blob/master/svm_model_for_imdb_reviews.ipynb\" target=\"_parent\"><img src=\"https://colab.research.google.com/assets/colab-badge.svg\" alt=\"Open In Colab\"/></a>"
      ]
    },
    {
      "metadata": {
        "id": "BZgta7eBtMrn",
        "colab_type": "code",
        "colab": {
          "base_uri": "https://localhost:8080/",
          "height": 52
        },
        "outputId": "44b65260-9643-4356-e23c-198dc2e572fe"
      },
      "cell_type": "code",
      "source": [
        "!pip install -U -q PyDrive\n",
        "from pydrive.auth import GoogleAuth\n",
        "from pydrive.drive import GoogleDrive\n",
        "from google.colab import auth\n",
        "from oauth2client.client import GoogleCredentials\n",
        "import io\n",
        "import zipfile\n",
        "# Authenticate and create the PyDrive client.\n",
        "# This only needs to be done once per notebook.\n",
        "auth.authenticate_user()\n",
        "gauth = GoogleAuth()\n",
        "gauth.credentials = GoogleCredentials.get_application_default()\n",
        "drive = GoogleDrive(gauth)\n",
        "\n",
        "# Download a file based on its file ID.\n",
        "#https://drive.google.com/open?id=1TgsnApIgUGzC1pd9RYkCFoSP0yFEuXVJ\n",
        "\n",
        "file_id = '1TgsnApIgUGzC1pd9RYkCFoSP0yFEuXVJ' #-- Updated File ID for my zip\n",
        "downloaded = drive.CreateFile({'id': file_id})\n",
        "downloaded.GetContentFile('movie_reviews.csv')"
      ],
      "execution_count": 1,
      "outputs": [
        {
          "output_type": "stream",
          "text": [
            "\u001b[?25l\r\u001b[K    1% |▎                               | 10kB 25.5MB/s eta 0:00:01\r\u001b[K    2% |▋                               | 20kB 3.1MB/s eta 0:00:01\r\u001b[K    3% |█                               | 30kB 4.4MB/s eta 0:00:01\r\u001b[K    4% |█▎                              | 40kB 3.0MB/s eta 0:00:01\r\u001b[K    5% |█▋                              | 51kB 3.6MB/s eta 0:00:01\r\u001b[K    6% |██                              | 61kB 4.2MB/s eta 0:00:01\r\u001b[K    7% |██▎                             | 71kB 4.8MB/s eta 0:00:01\r\u001b[K    8% |██▋                             | 81kB 5.4MB/s eta 0:00:01\r\u001b[K    9% |███                             | 92kB 6.1MB/s eta 0:00:01\r\u001b[K    10% |███▎                            | 102kB 4.8MB/s eta 0:00:01\r\u001b[K    11% |███▋                            | 112kB 4.8MB/s eta 0:00:01\r\u001b[K    12% |████                            | 122kB 6.7MB/s eta 0:00:01\r\u001b[K    13% |████▎                           | 133kB 6.7MB/s eta 0:00:01\r\u001b[K    14% |████▋                           | 143kB 11.8MB/s eta 0:00:01\r\u001b[K    15% |█████                           | 153kB 12.2MB/s eta 0:00:01\r\u001b[K    16% |█████▎                          | 163kB 12.5MB/s eta 0:00:01\r\u001b[K    17% |█████▋                          | 174kB 12.6MB/s eta 0:00:01\r\u001b[K    18% |██████                          | 184kB 12.8MB/s eta 0:00:01\r\u001b[K    19% |██████▎                         | 194kB 12.8MB/s eta 0:00:01\r\u001b[K    20% |██████▋                         | 204kB 44.3MB/s eta 0:00:01\r\u001b[K    21% |███████                         | 215kB 14.9MB/s eta 0:00:01\r\u001b[K    22% |███████▎                        | 225kB 15.0MB/s eta 0:00:01\r\u001b[K    23% |███████▋                        | 235kB 15.5MB/s eta 0:00:01\r\u001b[K    24% |████████                        | 245kB 15.5MB/s eta 0:00:01\r\u001b[K    25% |████████▎                       | 256kB 15.4MB/s eta 0:00:01\r\u001b[K    26% |████████▋                       | 266kB 14.8MB/s eta 0:00:01\r\u001b[K    27% |█████████                       | 276kB 15.1MB/s eta 0:00:01\r\u001b[K    29% |█████████▎                      | 286kB 15.1MB/s eta 0:00:01\r\u001b[K    30% |█████████▋                      | 296kB 15.1MB/s eta 0:00:01\r\u001b[K    31% |██████████                      | 307kB 16.0MB/s eta 0:00:01\r\u001b[K    32% |██████████▎                     | 317kB 61.1MB/s eta 0:00:01\r\u001b[K    33% |██████████▋                     | 327kB 61.8MB/s eta 0:00:01\r\u001b[K    34% |███████████                     | 337kB 62.8MB/s eta 0:00:01\r\u001b[K    35% |███████████▎                    | 348kB 56.0MB/s eta 0:00:01\r\u001b[K    36% |███████████▋                    | 358kB 56.8MB/s eta 0:00:01\r\u001b[K    37% |████████████                    | 368kB 69.0MB/s eta 0:00:01\r\u001b[K    38% |████████████▎                   | 378kB 69.6MB/s eta 0:00:01\r\u001b[K    39% |████████████▋                   | 389kB 70.1MB/s eta 0:00:01\r\u001b[K    40% |█████████████                   | 399kB 17.9MB/s eta 0:00:01\r\u001b[K    41% |█████████████▎                  | 409kB 17.6MB/s eta 0:00:01\r\u001b[K    42% |█████████████▋                  | 419kB 17.6MB/s eta 0:00:01\r\u001b[K    43% |██████████████                  | 430kB 17.6MB/s eta 0:00:01\r\u001b[K    44% |██████████████▎                 | 440kB 17.5MB/s eta 0:00:01\r\u001b[K    45% |██████████████▋                 | 450kB 17.6MB/s eta 0:00:01\r\u001b[K    46% |███████████████                 | 460kB 17.3MB/s eta 0:00:01\r\u001b[K    47% |███████████████▎                | 471kB 17.3MB/s eta 0:00:01\r\u001b[K    48% |███████████████▋                | 481kB 17.3MB/s eta 0:00:01\r\u001b[K    49% |████████████████                | 491kB 17.3MB/s eta 0:00:01\r\u001b[K    50% |████████████████▎               | 501kB 62.3MB/s eta 0:00:01\r\u001b[K    51% |████████████████▋               | 512kB 58.5MB/s eta 0:00:01\r\u001b[K    52% |█████████████████               | 522kB 58.9MB/s eta 0:00:01\r\u001b[K    53% |█████████████████▎              | 532kB 59.5MB/s eta 0:00:01\r\u001b[K    54% |█████████████████▋              | 542kB 59.9MB/s eta 0:00:01\r\u001b[K    55% |██████████████████              | 552kB 69.9MB/s eta 0:00:01\r\u001b[K    57% |██████████████████▎             | 563kB 74.4MB/s eta 0:00:01\r\u001b[K    58% |██████████████████▋             | 573kB 74.8MB/s eta 0:00:01\r\u001b[K    59% |███████████████████             | 583kB 75.7MB/s eta 0:00:01\r\u001b[K    60% |███████████████████▎            | 593kB 74.9MB/s eta 0:00:01\r\u001b[K    61% |███████████████████▋            | 604kB 73.8MB/s eta 0:00:01\r\u001b[K    62% |████████████████████            | 614kB 86.0MB/s eta 0:00:01\r\u001b[K    63% |████████████████████▎           | 624kB 84.4MB/s eta 0:00:01\r\u001b[K    64% |████████████████████▋           | 634kB 84.4MB/s eta 0:00:01\r\u001b[K    65% |█████████████████████           | 645kB 83.4MB/s eta 0:00:01\r\u001b[K    66% |█████████████████████▎          | 655kB 21.5MB/s eta 0:00:01\r\u001b[K    67% |█████████████████████▋          | 665kB 19.0MB/s eta 0:00:01\r\u001b[K    68% |██████████████████████          | 675kB 18.6MB/s eta 0:00:01\r\u001b[K    69% |██████████████████████▎         | 686kB 18.4MB/s eta 0:00:01\r\u001b[K    70% |██████████████████████▋         | 696kB 18.5MB/s eta 0:00:01\r\u001b[K    71% |███████████████████████         | 706kB 18.4MB/s eta 0:00:01\r\u001b[K    72% |███████████████████████▎        | 716kB 18.3MB/s eta 0:00:01\r\u001b[K    73% |███████████████████████▋        | 727kB 18.2MB/s eta 0:00:01\r\u001b[K    74% |████████████████████████        | 737kB 18.2MB/s eta 0:00:01\r\u001b[K    75% |████████████████████████▎       | 747kB 18.2MB/s eta 0:00:01\r\u001b[K    76% |████████████████████████▋       | 757kB 48.2MB/s eta 0:00:01\r\u001b[K    77% |████████████████████████▉       | 768kB 68.6MB/s eta 0:00:01\r\u001b[K    78% |█████████████████████████▏      | 778kB 72.9MB/s eta 0:00:01\r\u001b[K    79% |█████████████████████████▌      | 788kB 73.8MB/s eta 0:00:01\r\u001b[K    80% |█████████████████████████▉      | 798kB 74.9MB/s eta 0:00:01\r\u001b[K    81% |██████████████████████████▏     | 808kB 75.4MB/s eta 0:00:01\r\u001b[K    82% |██████████████████████████▌     | 819kB 76.7MB/s eta 0:00:01\r\u001b[K    83% |██████████████████████████▉     | 829kB 78.6MB/s eta 0:00:01\r\u001b[K    85% |███████████████████████████▏    | 839kB 78.8MB/s eta 0:00:01\r\u001b[K    86% |███████████████████████████▌    | 849kB 78.9MB/s eta 0:00:01\r\u001b[K    87% |███████████████████████████▉    | 860kB 66.6MB/s eta 0:00:01\r\u001b[K    88% |████████████████████████████▏   | 870kB 65.4MB/s eta 0:00:01\r\u001b[K    89% |████████████████████████████▌   | 880kB 66.4MB/s eta 0:00:01\r\u001b[K    90% |████████████████████████████▉   | 890kB 67.4MB/s eta 0:00:01\r\u001b[K    91% |█████████████████████████████▏  | 901kB 66.9MB/s eta 0:00:01\r\u001b[K    92% |█████████████████████████████▌  | 911kB 67.9MB/s eta 0:00:01\r\u001b[K    93% |█████████████████████████████▉  | 921kB 67.7MB/s eta 0:00:01\r\u001b[K    94% |██████████████████████████████▏ | 931kB 68.1MB/s eta 0:00:01\r\u001b[K    95% |██████████████████████████████▌ | 942kB 68.4MB/s eta 0:00:01\r\u001b[K    96% |██████████████████████████████▉ | 952kB 67.2MB/s eta 0:00:01\r\u001b[K    97% |███████████████████████████████▏| 962kB 80.8MB/s eta 0:00:01\r\u001b[K    98% |███████████████████████████████▌| 972kB 84.5MB/s eta 0:00:01\r\u001b[K    99% |███████████████████████████████▉| 983kB 84.0MB/s eta 0:00:01\r\u001b[K    100% |████████████████████████████████| 993kB 21.1MB/s \n",
            "\u001b[?25h  Building wheel for PyDrive (setup.py) ... \u001b[?25ldone\n",
            "\u001b[?25h"
          ],
          "name": "stdout"
        }
      ]
    },
    {
      "metadata": {
        "id": "_AzpM1yNtJGw",
        "colab_type": "code",
        "outputId": "b29a3c69-fd6a-4e4a-8513-c9da41cd1cc6",
        "colab": {
          "base_uri": "https://localhost:8080/",
          "height": 195
        }
      },
      "cell_type": "code",
      "source": [
        "import pandas as pd\n",
        "\n",
        "df=pd.read_csv(\"movie_reviews.csv\",encoding=\"utf8\")\n",
        "df.head()"
      ],
      "execution_count": 2,
      "outputs": [
        {
          "output_type": "execute_result",
          "data": {
            "text/html": [
              "<div>\n",
              "<style scoped>\n",
              "    .dataframe tbody tr th:only-of-type {\n",
              "        vertical-align: middle;\n",
              "    }\n",
              "\n",
              "    .dataframe tbody tr th {\n",
              "        vertical-align: top;\n",
              "    }\n",
              "\n",
              "    .dataframe thead th {\n",
              "        text-align: right;\n",
              "    }\n",
              "</style>\n",
              "<table border=\"1\" class=\"dataframe\">\n",
              "  <thead>\n",
              "    <tr style=\"text-align: right;\">\n",
              "      <th></th>\n",
              "      <th>review</th>\n",
              "      <th>sentiment</th>\n",
              "    </tr>\n",
              "  </thead>\n",
              "  <tbody>\n",
              "    <tr>\n",
              "      <th>0</th>\n",
              "      <td>I have done a lot of international travel, bot...</td>\n",
              "      <td>positive</td>\n",
              "    </tr>\n",
              "    <tr>\n",
              "      <th>1</th>\n",
              "      <td>One of the most frightening game experiences e...</td>\n",
              "      <td>positive</td>\n",
              "    </tr>\n",
              "    <tr>\n",
              "      <th>2</th>\n",
              "      <td>I was amazingly impressed by this movie. It co...</td>\n",
              "      <td>positive</td>\n",
              "    </tr>\n",
              "    <tr>\n",
              "      <th>3</th>\n",
              "      <td>This film is stale, and misses the mark. It is...</td>\n",
              "      <td>negative</td>\n",
              "    </tr>\n",
              "    <tr>\n",
              "      <th>4</th>\n",
              "      <td>At last!! Sandra Bullock is indeed a beautiful...</td>\n",
              "      <td>positive</td>\n",
              "    </tr>\n",
              "  </tbody>\n",
              "</table>\n",
              "</div>"
            ],
            "text/plain": [
              "                                              review sentiment\n",
              "0  I have done a lot of international travel, bot...  positive\n",
              "1  One of the most frightening game experiences e...  positive\n",
              "2  I was amazingly impressed by this movie. It co...  positive\n",
              "3  This film is stale, and misses the mark. It is...  negative\n",
              "4  At last!! Sandra Bullock is indeed a beautiful...  positive"
            ]
          },
          "metadata": {
            "tags": []
          },
          "execution_count": 2
        }
      ]
    },
    {
      "metadata": {
        "id": "sYOl2zCgtJHE",
        "colab_type": "code",
        "outputId": "4f92e20d-3a11-41a3-e95f-51802a3fee2d",
        "colab": {
          "base_uri": "https://localhost:8080/",
          "height": 195
        }
      },
      "cell_type": "code",
      "source": [
        "df = df[df.sentiment != 'unsup']\n",
        "df['sentiment'] = df['sentiment'].map({'positive': 1, 'negative': 0})\n",
        "df.head()"
      ],
      "execution_count": 3,
      "outputs": [
        {
          "output_type": "execute_result",
          "data": {
            "text/html": [
              "<div>\n",
              "<style scoped>\n",
              "    .dataframe tbody tr th:only-of-type {\n",
              "        vertical-align: middle;\n",
              "    }\n",
              "\n",
              "    .dataframe tbody tr th {\n",
              "        vertical-align: top;\n",
              "    }\n",
              "\n",
              "    .dataframe thead th {\n",
              "        text-align: right;\n",
              "    }\n",
              "</style>\n",
              "<table border=\"1\" class=\"dataframe\">\n",
              "  <thead>\n",
              "    <tr style=\"text-align: right;\">\n",
              "      <th></th>\n",
              "      <th>review</th>\n",
              "      <th>sentiment</th>\n",
              "    </tr>\n",
              "  </thead>\n",
              "  <tbody>\n",
              "    <tr>\n",
              "      <th>0</th>\n",
              "      <td>I have done a lot of international travel, bot...</td>\n",
              "      <td>1</td>\n",
              "    </tr>\n",
              "    <tr>\n",
              "      <th>1</th>\n",
              "      <td>One of the most frightening game experiences e...</td>\n",
              "      <td>1</td>\n",
              "    </tr>\n",
              "    <tr>\n",
              "      <th>2</th>\n",
              "      <td>I was amazingly impressed by this movie. It co...</td>\n",
              "      <td>1</td>\n",
              "    </tr>\n",
              "    <tr>\n",
              "      <th>3</th>\n",
              "      <td>This film is stale, and misses the mark. It is...</td>\n",
              "      <td>0</td>\n",
              "    </tr>\n",
              "    <tr>\n",
              "      <th>4</th>\n",
              "      <td>At last!! Sandra Bullock is indeed a beautiful...</td>\n",
              "      <td>1</td>\n",
              "    </tr>\n",
              "  </tbody>\n",
              "</table>\n",
              "</div>"
            ],
            "text/plain": [
              "                                              review  sentiment\n",
              "0  I have done a lot of international travel, bot...          1\n",
              "1  One of the most frightening game experiences e...          1\n",
              "2  I was amazingly impressed by this movie. It co...          1\n",
              "3  This film is stale, and misses the mark. It is...          0\n",
              "4  At last!! Sandra Bullock is indeed a beautiful...          1"
            ]
          },
          "metadata": {
            "tags": []
          },
          "execution_count": 3
        }
      ]
    },
    {
      "metadata": {
        "id": "fp3K-0PxtJHN",
        "colab_type": "code",
        "outputId": "101c71f3-d949-4164-927a-6374cc06960c",
        "colab": {
          "base_uri": "https://localhost:8080/",
          "height": 87
        }
      },
      "cell_type": "code",
      "source": [
        "import re\n",
        "import nltk\n",
        "nltk.download('stopwords')\n",
        "nltk.download('wordnet')\n",
        "from nltk.stem import WordNetLemmatizer\n",
        "from nltk.corpus import stopwords\n",
        "\n",
        "stop_words = set(stopwords.words(\"english\")) \n",
        "lemmatizer = WordNetLemmatizer()\n",
        "\n",
        "\n",
        "def clean_text(text):\n",
        "    text = re.sub(r'[^\\w\\s]','',text, re.UNICODE)\n",
        "    text = text.lower()\n",
        "    text = [lemmatizer.lemmatize(token) for token in text.split(\" \")]\n",
        "    text = [lemmatizer.lemmatize(token, \"v\") for token in text]\n",
        "    text = [word for word in text if not word in stop_words]\n",
        "    text = \" \".join(text)\n",
        "    return text\n",
        "\n",
        "df['Processed_Reviews'] = df.review.apply(lambda x: clean_text(x))"
      ],
      "execution_count": 4,
      "outputs": [
        {
          "output_type": "stream",
          "text": [
            "[nltk_data] Downloading package stopwords to /root/nltk_data...\n",
            "[nltk_data]   Unzipping corpora/stopwords.zip.\n",
            "[nltk_data] Downloading package wordnet to /root/nltk_data...\n",
            "[nltk_data]   Unzipping corpora/wordnet.zip.\n"
          ],
          "name": "stdout"
        }
      ]
    },
    {
      "metadata": {
        "id": "_ijZCuN4tJHR",
        "colab_type": "code",
        "outputId": "6b1959c1-5af9-46af-e46f-8c2b55cdc3b8",
        "colab": {
          "base_uri": "https://localhost:8080/",
          "height": 54
        }
      },
      "cell_type": "code",
      "source": [
        "df['Processed_Reviews'][0]"
      ],
      "execution_count": 5,
      "outputs": [
        {
          "output_type": "execute_result",
          "data": {
            "text/plain": [
              "\"lot international travel business tourist type assure best advice also oldest always drink wine country movie archangel michael come earth business wrap quickly decide hang around little tour boy doe drink wine countrybr br could man drink forever liquor love fight br br hed lief rise morning lief lie nightsbr br thing cant heaven enjoy he's here! course turn couple job tackle and, le direct wa first one, successful. final scene little schmaltzy also wonderful. jean stapleton get dance john travolta.\""
            ]
          },
          "metadata": {
            "tags": []
          },
          "execution_count": 5
        }
      ]
    },
    {
      "metadata": {
        "id": "3f1fOt5atJHZ",
        "colab_type": "code",
        "outputId": "7936d073-ad3f-41a6-dce2-33fd6baf168d",
        "colab": {
          "base_uri": "https://localhost:8080/",
          "height": 54
        }
      },
      "cell_type": "code",
      "source": [
        "df['review'][0]"
      ],
      "execution_count": 6,
      "outputs": [
        {
          "output_type": "execute_result",
          "data": {
            "text/plain": [
              "'I have done a lot of international travel, both on business and as a tourist. For both types I assure you the best advice is also the oldest: Always drink the wine of the country. In this movie the archangel Michael comes to Earth on business, wraps it up quickly and decides to hang around for a little touring. Boy! Does he \"drink the wine of the country.\"<br /><br />Could man be drunk forever with liquor, love and fights <br /><br />He\\'d lief rise up of mornings and lief lie down of nights.<br /><br />These are things you can\\'t do in Heaven so he enjoys them while he\\'s here! Of course it turns out he had a couple of other jobs to tackle and, if he is less direct about them than he was about the first one, he is just as successful. The final scene is a little schmaltzy but it is also wonderful. Jean Stapleton gets to dance with John Travolta.'"
            ]
          },
          "metadata": {
            "tags": []
          },
          "execution_count": 6
        }
      ]
    },
    {
      "metadata": {
        "id": "LFGWMUh7tJHg",
        "colab_type": "code",
        "outputId": "292e0447-47f5-45ff-97e4-afacf2b9b301",
        "colab": {
          "base_uri": "https://localhost:8080/",
          "height": 195
        }
      },
      "cell_type": "code",
      "source": [
        "df.head()"
      ],
      "execution_count": 7,
      "outputs": [
        {
          "output_type": "execute_result",
          "data": {
            "text/html": [
              "<div>\n",
              "<style scoped>\n",
              "    .dataframe tbody tr th:only-of-type {\n",
              "        vertical-align: middle;\n",
              "    }\n",
              "\n",
              "    .dataframe tbody tr th {\n",
              "        vertical-align: top;\n",
              "    }\n",
              "\n",
              "    .dataframe thead th {\n",
              "        text-align: right;\n",
              "    }\n",
              "</style>\n",
              "<table border=\"1\" class=\"dataframe\">\n",
              "  <thead>\n",
              "    <tr style=\"text-align: right;\">\n",
              "      <th></th>\n",
              "      <th>review</th>\n",
              "      <th>sentiment</th>\n",
              "      <th>Processed_Reviews</th>\n",
              "    </tr>\n",
              "  </thead>\n",
              "  <tbody>\n",
              "    <tr>\n",
              "      <th>0</th>\n",
              "      <td>I have done a lot of international travel, bot...</td>\n",
              "      <td>1</td>\n",
              "      <td>lot international travel business tourist type...</td>\n",
              "    </tr>\n",
              "    <tr>\n",
              "      <th>1</th>\n",
              "      <td>One of the most frightening game experiences e...</td>\n",
              "      <td>1</td>\n",
              "      <td>one frighten game experience ever make keep li...</td>\n",
              "    </tr>\n",
              "    <tr>\n",
              "      <th>2</th>\n",
              "      <td>I was amazingly impressed by this movie. It co...</td>\n",
              "      <td>1</td>\n",
              "      <td>wa amazingly impress movie contain fundamental...</td>\n",
              "    </tr>\n",
              "    <tr>\n",
              "      <th>3</th>\n",
              "      <td>This film is stale, and misses the mark. It is...</td>\n",
              "      <td>0</td>\n",
              "      <td>film stale miss mark far compare 89 batman try...</td>\n",
              "    </tr>\n",
              "    <tr>\n",
              "      <th>4</th>\n",
              "      <td>At last!! Sandra Bullock is indeed a beautiful...</td>\n",
              "      <td>1</td>\n",
              "      <td>last sandra bullock indeed beautiful woman ive...</td>\n",
              "    </tr>\n",
              "  </tbody>\n",
              "</table>\n",
              "</div>"
            ],
            "text/plain": [
              "                                              review  sentiment  \\\n",
              "0  I have done a lot of international travel, bot...          1   \n",
              "1  One of the most frightening game experiences e...          1   \n",
              "2  I was amazingly impressed by this movie. It co...          1   \n",
              "3  This film is stale, and misses the mark. It is...          0   \n",
              "4  At last!! Sandra Bullock is indeed a beautiful...          1   \n",
              "\n",
              "                                   Processed_Reviews  \n",
              "0  lot international travel business tourist type...  \n",
              "1  one frighten game experience ever make keep li...  \n",
              "2  wa amazingly impress movie contain fundamental...  \n",
              "3  film stale miss mark far compare 89 batman try...  \n",
              "4  last sandra bullock indeed beautiful woman ive...  "
            ]
          },
          "metadata": {
            "tags": []
          },
          "execution_count": 7
        }
      ]
    },
    {
      "metadata": {
        "id": "BsSJjwMftJHn",
        "colab_type": "code",
        "outputId": "6a70bdff-ba55-451a-f871-fc51d2088a59",
        "colab": {
          "base_uri": "https://localhost:8080/",
          "height": 195
        }
      },
      "cell_type": "code",
      "source": [
        "df = df.drop(['review'],axis=1)\n",
        "df.head()"
      ],
      "execution_count": 8,
      "outputs": [
        {
          "output_type": "execute_result",
          "data": {
            "text/html": [
              "<div>\n",
              "<style scoped>\n",
              "    .dataframe tbody tr th:only-of-type {\n",
              "        vertical-align: middle;\n",
              "    }\n",
              "\n",
              "    .dataframe tbody tr th {\n",
              "        vertical-align: top;\n",
              "    }\n",
              "\n",
              "    .dataframe thead th {\n",
              "        text-align: right;\n",
              "    }\n",
              "</style>\n",
              "<table border=\"1\" class=\"dataframe\">\n",
              "  <thead>\n",
              "    <tr style=\"text-align: right;\">\n",
              "      <th></th>\n",
              "      <th>sentiment</th>\n",
              "      <th>Processed_Reviews</th>\n",
              "    </tr>\n",
              "  </thead>\n",
              "  <tbody>\n",
              "    <tr>\n",
              "      <th>0</th>\n",
              "      <td>1</td>\n",
              "      <td>lot international travel business tourist type...</td>\n",
              "    </tr>\n",
              "    <tr>\n",
              "      <th>1</th>\n",
              "      <td>1</td>\n",
              "      <td>one frighten game experience ever make keep li...</td>\n",
              "    </tr>\n",
              "    <tr>\n",
              "      <th>2</th>\n",
              "      <td>1</td>\n",
              "      <td>wa amazingly impress movie contain fundamental...</td>\n",
              "    </tr>\n",
              "    <tr>\n",
              "      <th>3</th>\n",
              "      <td>0</td>\n",
              "      <td>film stale miss mark far compare 89 batman try...</td>\n",
              "    </tr>\n",
              "    <tr>\n",
              "      <th>4</th>\n",
              "      <td>1</td>\n",
              "      <td>last sandra bullock indeed beautiful woman ive...</td>\n",
              "    </tr>\n",
              "  </tbody>\n",
              "</table>\n",
              "</div>"
            ],
            "text/plain": [
              "   sentiment                                  Processed_Reviews\n",
              "0          1  lot international travel business tourist type...\n",
              "1          1  one frighten game experience ever make keep li...\n",
              "2          1  wa amazingly impress movie contain fundamental...\n",
              "3          0  film stale miss mark far compare 89 batman try...\n",
              "4          1  last sandra bullock indeed beautiful woman ive..."
            ]
          },
          "metadata": {
            "tags": []
          },
          "execution_count": 8
        }
      ]
    },
    {
      "metadata": {
        "id": "PM86q1BUtJHu",
        "colab_type": "code",
        "outputId": "5493645a-432a-4c73-9ab9-e596a1b50c71",
        "colab": {
          "base_uri": "https://localhost:8080/",
          "height": 54
        }
      },
      "cell_type": "code",
      "source": [
        "df['Processed_Reviews'][9317]"
      ],
      "execution_count": 9,
      "outputs": [
        {
          "output_type": "execute_result",
          "data": {
            "text/plain": [
              "'although charlie chaplin make great short comedy late 1910s others dont quite make example like new job shanghai come mind would also floorwalker categorybr br charlie get mistake manager department store vice versa manager try steal money cash register make run charlie honest costumer get blame miss object steal costumersbr br arent many laugh except last couple minute great scene escalator rest quite disappointingbr <br />4/10.'"
            ]
          },
          "metadata": {
            "tags": []
          },
          "execution_count": 9
        }
      ]
    },
    {
      "metadata": {
        "id": "bI2UVeQytJH2",
        "colab_type": "code",
        "colab": {}
      },
      "cell_type": "code",
      "source": [
        ""
      ],
      "execution_count": 0,
      "outputs": []
    },
    {
      "metadata": {
        "id": "7lDr5ULFtJH9",
        "colab_type": "code",
        "colab": {}
      },
      "cell_type": "code",
      "source": [
        "trd = df[:35000]\n",
        "ted = df[35000:]"
      ],
      "execution_count": 0,
      "outputs": []
    },
    {
      "metadata": {
        "id": "B_WCAr8gtJIA",
        "colab_type": "code",
        "outputId": "992fbd4f-fad1-4ec4-c0e5-08a5d1c7e754",
        "colab": {
          "base_uri": "https://localhost:8080/",
          "height": 1882
        }
      },
      "cell_type": "code",
      "source": [
        "trd"
      ],
      "execution_count": 11,
      "outputs": [
        {
          "output_type": "execute_result",
          "data": {
            "text/html": [
              "<div>\n",
              "<style scoped>\n",
              "    .dataframe tbody tr th:only-of-type {\n",
              "        vertical-align: middle;\n",
              "    }\n",
              "\n",
              "    .dataframe tbody tr th {\n",
              "        vertical-align: top;\n",
              "    }\n",
              "\n",
              "    .dataframe thead th {\n",
              "        text-align: right;\n",
              "    }\n",
              "</style>\n",
              "<table border=\"1\" class=\"dataframe\">\n",
              "  <thead>\n",
              "    <tr style=\"text-align: right;\">\n",
              "      <th></th>\n",
              "      <th>sentiment</th>\n",
              "      <th>Processed_Reviews</th>\n",
              "    </tr>\n",
              "  </thead>\n",
              "  <tbody>\n",
              "    <tr>\n",
              "      <th>0</th>\n",
              "      <td>1</td>\n",
              "      <td>lot international travel business tourist type...</td>\n",
              "    </tr>\n",
              "    <tr>\n",
              "      <th>1</th>\n",
              "      <td>1</td>\n",
              "      <td>one frighten game experience ever make keep li...</td>\n",
              "    </tr>\n",
              "    <tr>\n",
              "      <th>2</th>\n",
              "      <td>1</td>\n",
              "      <td>wa amazingly impress movie contain fundamental...</td>\n",
              "    </tr>\n",
              "    <tr>\n",
              "      <th>3</th>\n",
              "      <td>0</td>\n",
              "      <td>film stale miss mark far compare 89 batman try...</td>\n",
              "    </tr>\n",
              "    <tr>\n",
              "      <th>4</th>\n",
              "      <td>1</td>\n",
              "      <td>last sandra bullock indeed beautiful woman ive...</td>\n",
              "    </tr>\n",
              "    <tr>\n",
              "      <th>5</th>\n",
              "      <td>1</td>\n",
              "      <td>film good moviethe way everybody portray role ...</td>\n",
              "    </tr>\n",
              "    <tr>\n",
              "      <th>6</th>\n",
              "      <td>0</td>\n",
              "      <td>carrier follow exploit two guy two gal steal m...</td>\n",
              "    </tr>\n",
              "    <tr>\n",
              "      <th>7</th>\n",
              "      <td>1</td>\n",
              "      <td>admit weakness alternate history story wonderf...</td>\n",
              "    </tr>\n",
              "    <tr>\n",
              "      <th>8</th>\n",
              "      <td>0</td>\n",
              "      <td>im fan 1950s original 20 minute remake start t...</td>\n",
              "    </tr>\n",
              "    <tr>\n",
              "      <th>9</th>\n",
              "      <td>0</td>\n",
              "      <td>average look video game turn sort conspiracy n...</td>\n",
              "    </tr>\n",
              "    <tr>\n",
              "      <th>10</th>\n",
              "      <td>0</td>\n",
              "      <td>ive always fan chuck norris accomplish movie m...</td>\n",
              "    </tr>\n",
              "    <tr>\n",
              "      <th>11</th>\n",
              "      <td>1</td>\n",
              "      <td>catch run screen room new york wa immediately ...</td>\n",
              "    </tr>\n",
              "    <tr>\n",
              "      <th>12</th>\n",
              "      <td>1</td>\n",
              "      <td>every time movie use reair late night tv late ...</td>\n",
              "    </tr>\n",
              "    <tr>\n",
              "      <th>13</th>\n",
              "      <td>0</td>\n",
              "      <td>never end frenzy clever visual irony doe neces...</td>\n",
              "    </tr>\n",
              "    <tr>\n",
              "      <th>14</th>\n",
              "      <td>0</td>\n",
              "      <td>biggest problem film nothing like bruce allmig...</td>\n",
              "    </tr>\n",
              "    <tr>\n",
              "      <th>15</th>\n",
              "      <td>0</td>\n",
              "      <td>lack better term movie lousy startbr br cinema...</td>\n",
              "    </tr>\n",
              "    <tr>\n",
              "      <th>16</th>\n",
              "      <td>0</td>\n",
              "      <td>twin brother separate birth due death parent r...</td>\n",
              "    </tr>\n",
              "    <tr>\n",
              "      <th>17</th>\n",
              "      <td>1</td>\n",
              "      <td>originally catch back 1996 one week run movie ...</td>\n",
              "    </tr>\n",
              "    <tr>\n",
              "      <th>18</th>\n",
              "      <td>0</td>\n",
              "      <td>notice previous reviewer appear still school g...</td>\n",
              "    </tr>\n",
              "    <tr>\n",
              "      <th>19</th>\n",
              "      <td>0</td>\n",
              "      <td>question importance queer cinema seem homosexu...</td>\n",
              "    </tr>\n",
              "    <tr>\n",
              "      <th>20</th>\n",
              "      <td>1</td>\n",
              "      <td>quite mitchell leisen fan wa great anticipatio...</td>\n",
              "    </tr>\n",
              "    <tr>\n",
              "      <th>21</th>\n",
              "      <td>0</td>\n",
              "      <td>saturday night live national lampoon sctv alum...</td>\n",
              "    </tr>\n",
              "    <tr>\n",
              "      <th>22</th>\n",
              "      <td>1</td>\n",
              "      <td>excellent drama dark never see california phot...</td>\n",
              "    </tr>\n",
              "    <tr>\n",
              "      <th>23</th>\n",
              "      <td>0</td>\n",
              "      <td>bob marion boxletter see guy hotel marion beli...</td>\n",
              "    </tr>\n",
              "    <tr>\n",
              "      <th>24</th>\n",
              "      <td>0</td>\n",
              "      <td>wish could give movie zero even lower sadly th...</td>\n",
              "    </tr>\n",
              "    <tr>\n",
              "      <th>25</th>\n",
              "      <td>0</td>\n",
              "      <td>first saw live musical denver center perform a...</td>\n",
              "    </tr>\n",
              "    <tr>\n",
              "      <th>26</th>\n",
              "      <td>0</td>\n",
              "      <td>review wizard confuse wiz mr wizard wizard lat...</td>\n",
              "    </tr>\n",
              "    <tr>\n",
              "      <th>27</th>\n",
              "      <td>1</td>\n",
              "      <td>remember watch film think wa interest really w...</td>\n",
              "    </tr>\n",
              "    <tr>\n",
              "      <th>28</th>\n",
              "      <td>1</td>\n",
              "      <td>one unfairly malign programme time terry  june...</td>\n",
              "    </tr>\n",
              "    <tr>\n",
              "      <th>29</th>\n",
              "      <td>1</td>\n",
              "      <td>great british movie scream good laugh sexy gar...</td>\n",
              "    </tr>\n",
              "    <tr>\n",
              "      <th>...</th>\n",
              "      <td>...</td>\n",
              "      <td>...</td>\n",
              "    </tr>\n",
              "    <tr>\n",
              "      <th>34970</th>\n",
              "      <td>0</td>\n",
              "      <td>think movie wa horrible wa bore use self contr...</td>\n",
              "    </tr>\n",
              "    <tr>\n",
              "      <th>34971</th>\n",
              "      <td>1</td>\n",
              "      <td>movie love story set backdrop war everything m...</td>\n",
              "    </tr>\n",
              "    <tr>\n",
              "      <th>34972</th>\n",
              "      <td>0</td>\n",
              "      <td>20th century fox road house 1948 quite silly n...</td>\n",
              "    </tr>\n",
              "    <tr>\n",
              "      <th>34973</th>\n",
              "      <td>0</td>\n",
              "      <td>someone age 10 doe mean stupid child like film...</td>\n",
              "    </tr>\n",
              "    <tr>\n",
              "      <th>34974</th>\n",
              "      <td>0</td>\n",
              "      <td>profanity stupidity selfindulgence bad act joi...</td>\n",
              "    </tr>\n",
              "    <tr>\n",
              "      <th>34975</th>\n",
              "      <td>0</td>\n",
              "      <td>could get 25 min one laugh 25 minute give one ...</td>\n",
              "    </tr>\n",
              "    <tr>\n",
              "      <th>34976</th>\n",
              "      <td>1</td>\n",
              "      <td>fan paris jetaime go see new york love high ex...</td>\n",
              "    </tr>\n",
              "    <tr>\n",
              "      <th>34977</th>\n",
              "      <td>0</td>\n",
              "      <td>movie ha worst act ive ever see dennis quaids ...</td>\n",
              "    </tr>\n",
              "    <tr>\n",
              "      <th>34978</th>\n",
              "      <td>0</td>\n",
              "      <td>weird unnecessary sing backdrop randomly much ...</td>\n",
              "    </tr>\n",
              "    <tr>\n",
              "      <th>34979</th>\n",
              "      <td>0</td>\n",
              "      <td>read one review express view platoon wa never ...</td>\n",
              "    </tr>\n",
              "    <tr>\n",
              "      <th>34980</th>\n",
              "      <td>1</td>\n",
              "      <td>subsequent two season original series wa le la...</td>\n",
              "    </tr>\n",
              "    <tr>\n",
              "      <th>34981</th>\n",
              "      <td>1</td>\n",
              "      <td>love movie wa almost first cabin lake instead ...</td>\n",
              "    </tr>\n",
              "    <tr>\n",
              "      <th>34982</th>\n",
              "      <td>1</td>\n",
              "      <td>almost impossible sit write conscientious revi...</td>\n",
              "    </tr>\n",
              "    <tr>\n",
              "      <th>34983</th>\n",
              "      <td>0</td>\n",
              "      <td>great book poorly movie cheesy performance con...</td>\n",
              "    </tr>\n",
              "    <tr>\n",
              "      <th>34984</th>\n",
              "      <td>0</td>\n",
              "      <td>saw film tender age 18 group friend reputation...</td>\n",
              "    </tr>\n",
              "    <tr>\n",
              "      <th>34985</th>\n",
              "      <td>0</td>\n",
              "      <td>let honest film school project make without bu...</td>\n",
              "    </tr>\n",
              "    <tr>\n",
              "      <th>34986</th>\n",
              "      <td>1</td>\n",
              "      <td>dont watch soap grandmother still watch one ho...</td>\n",
              "    </tr>\n",
              "    <tr>\n",
              "      <th>34987</th>\n",
              "      <td>1</td>\n",
              "      <td>love fan original series always wonder back st...</td>\n",
              "    </tr>\n",
              "    <tr>\n",
              "      <th>34988</th>\n",
              "      <td>1</td>\n",
              "      <td>could never remember name show use watch wa 8 ...</td>\n",
              "    </tr>\n",
              "    <tr>\n",
              "      <th>34989</th>\n",
              "      <td>0</td>\n",
              "      <td>get copy writer movie soulseek say pathetic pl...</td>\n",
              "    </tr>\n",
              "    <tr>\n",
              "      <th>34990</th>\n",
              "      <td>1</td>\n",
              "      <td>unique filmone best time act script quincy jon...</td>\n",
              "    </tr>\n",
              "    <tr>\n",
              "      <th>34991</th>\n",
              "      <td>1</td>\n",
              "      <td>come across movie back mid eighty teenager imm...</td>\n",
              "    </tr>\n",
              "    <tr>\n",
              "      <th>34992</th>\n",
              "      <td>1</td>\n",
              "      <td>read somewhere fairly pan review something liv...</td>\n",
              "    </tr>\n",
              "    <tr>\n",
              "      <th>34993</th>\n",
              "      <td>0</td>\n",
              "      <td>oh one attack japanese ghost girl movie dont e...</td>\n",
              "    </tr>\n",
              "    <tr>\n",
              "      <th>34994</th>\n",
              "      <td>1</td>\n",
              "      <td>axel nordman cassavetes show new york dockyard...</td>\n",
              "    </tr>\n",
              "    <tr>\n",
              "      <th>34995</th>\n",
              "      <td>1</td>\n",
              "      <td>let start say liev ha gain ton respect see dir...</td>\n",
              "    </tr>\n",
              "    <tr>\n",
              "      <th>34996</th>\n",
              "      <td>0</td>\n",
              "      <td>ha one worst movie ever see watch piece sht fe...</td>\n",
              "    </tr>\n",
              "    <tr>\n",
              "      <th>34997</th>\n",
              "      <td>1</td>\n",
              "      <td>atlantis wa much better anticipate way better ...</td>\n",
              "    </tr>\n",
              "    <tr>\n",
              "      <th>34998</th>\n",
              "      <td>1</td>\n",
              "      <td>elizabeth ashley receive phone call nephew mic...</td>\n",
              "    </tr>\n",
              "    <tr>\n",
              "      <th>34999</th>\n",
              "      <td>1</td>\n",
              "      <td>recently start watch show syndication find bit...</td>\n",
              "    </tr>\n",
              "  </tbody>\n",
              "</table>\n",
              "<p>35000 rows × 2 columns</p>\n",
              "</div>"
            ],
            "text/plain": [
              "       sentiment                                  Processed_Reviews\n",
              "0              1  lot international travel business tourist type...\n",
              "1              1  one frighten game experience ever make keep li...\n",
              "2              1  wa amazingly impress movie contain fundamental...\n",
              "3              0  film stale miss mark far compare 89 batman try...\n",
              "4              1  last sandra bullock indeed beautiful woman ive...\n",
              "5              1  film good moviethe way everybody portray role ...\n",
              "6              0  carrier follow exploit two guy two gal steal m...\n",
              "7              1  admit weakness alternate history story wonderf...\n",
              "8              0  im fan 1950s original 20 minute remake start t...\n",
              "9              0  average look video game turn sort conspiracy n...\n",
              "10             0  ive always fan chuck norris accomplish movie m...\n",
              "11             1  catch run screen room new york wa immediately ...\n",
              "12             1  every time movie use reair late night tv late ...\n",
              "13             0  never end frenzy clever visual irony doe neces...\n",
              "14             0  biggest problem film nothing like bruce allmig...\n",
              "15             0  lack better term movie lousy startbr br cinema...\n",
              "16             0  twin brother separate birth due death parent r...\n",
              "17             1  originally catch back 1996 one week run movie ...\n",
              "18             0  notice previous reviewer appear still school g...\n",
              "19             0  question importance queer cinema seem homosexu...\n",
              "20             1  quite mitchell leisen fan wa great anticipatio...\n",
              "21             0  saturday night live national lampoon sctv alum...\n",
              "22             1  excellent drama dark never see california phot...\n",
              "23             0  bob marion boxletter see guy hotel marion beli...\n",
              "24             0  wish could give movie zero even lower sadly th...\n",
              "25             0  first saw live musical denver center perform a...\n",
              "26             0  review wizard confuse wiz mr wizard wizard lat...\n",
              "27             1  remember watch film think wa interest really w...\n",
              "28             1  one unfairly malign programme time terry  june...\n",
              "29             1  great british movie scream good laugh sexy gar...\n",
              "...          ...                                                ...\n",
              "34970          0  think movie wa horrible wa bore use self contr...\n",
              "34971          1  movie love story set backdrop war everything m...\n",
              "34972          0  20th century fox road house 1948 quite silly n...\n",
              "34973          0  someone age 10 doe mean stupid child like film...\n",
              "34974          0  profanity stupidity selfindulgence bad act joi...\n",
              "34975          0  could get 25 min one laugh 25 minute give one ...\n",
              "34976          1  fan paris jetaime go see new york love high ex...\n",
              "34977          0  movie ha worst act ive ever see dennis quaids ...\n",
              "34978          0  weird unnecessary sing backdrop randomly much ...\n",
              "34979          0  read one review express view platoon wa never ...\n",
              "34980          1  subsequent two season original series wa le la...\n",
              "34981          1  love movie wa almost first cabin lake instead ...\n",
              "34982          1  almost impossible sit write conscientious revi...\n",
              "34983          0  great book poorly movie cheesy performance con...\n",
              "34984          0  saw film tender age 18 group friend reputation...\n",
              "34985          0  let honest film school project make without bu...\n",
              "34986          1  dont watch soap grandmother still watch one ho...\n",
              "34987          1  love fan original series always wonder back st...\n",
              "34988          1  could never remember name show use watch wa 8 ...\n",
              "34989          0  get copy writer movie soulseek say pathetic pl...\n",
              "34990          1  unique filmone best time act script quincy jon...\n",
              "34991          1  come across movie back mid eighty teenager imm...\n",
              "34992          1  read somewhere fairly pan review something liv...\n",
              "34993          0  oh one attack japanese ghost girl movie dont e...\n",
              "34994          1  axel nordman cassavetes show new york dockyard...\n",
              "34995          1  let start say liev ha gain ton respect see dir...\n",
              "34996          0  ha one worst movie ever see watch piece sht fe...\n",
              "34997          1  atlantis wa much better anticipate way better ...\n",
              "34998          1  elizabeth ashley receive phone call nephew mic...\n",
              "34999          1  recently start watch show syndication find bit...\n",
              "\n",
              "[35000 rows x 2 columns]"
            ]
          },
          "metadata": {
            "tags": []
          },
          "execution_count": 11
        }
      ]
    },
    {
      "metadata": {
        "id": "Nb--8XKUtJIF",
        "colab_type": "code",
        "outputId": "f478ef88-b2bf-41a0-b7d1-2a98e7bd6785",
        "colab": {
          "base_uri": "https://localhost:8080/",
          "height": 1882
        }
      },
      "cell_type": "code",
      "source": [
        "ted"
      ],
      "execution_count": 12,
      "outputs": [
        {
          "output_type": "execute_result",
          "data": {
            "text/html": [
              "<div>\n",
              "<style scoped>\n",
              "    .dataframe tbody tr th:only-of-type {\n",
              "        vertical-align: middle;\n",
              "    }\n",
              "\n",
              "    .dataframe tbody tr th {\n",
              "        vertical-align: top;\n",
              "    }\n",
              "\n",
              "    .dataframe thead th {\n",
              "        text-align: right;\n",
              "    }\n",
              "</style>\n",
              "<table border=\"1\" class=\"dataframe\">\n",
              "  <thead>\n",
              "    <tr style=\"text-align: right;\">\n",
              "      <th></th>\n",
              "      <th>sentiment</th>\n",
              "      <th>Processed_Reviews</th>\n",
              "    </tr>\n",
              "  </thead>\n",
              "  <tbody>\n",
              "    <tr>\n",
              "      <th>35000</th>\n",
              "      <td>1</td>\n",
              "      <td>watch lappartement girlfriend sigh complicate ...</td>\n",
              "    </tr>\n",
              "    <tr>\n",
              "      <th>35001</th>\n",
              "      <td>0</td>\n",
              "      <td>work memorial hermann hospital tmc wa also wor...</td>\n",
              "    </tr>\n",
              "    <tr>\n",
              "      <th>35002</th>\n",
              "      <td>0</td>\n",
              "      <td>steve irwins show hillarious doesnt even try f...</td>\n",
              "    </tr>\n",
              "    <tr>\n",
              "      <th>35003</th>\n",
              "      <td>0</td>\n",
              "      <td>hire movie expect laugh hopefully enough keep ...</td>\n",
              "    </tr>\n",
              "    <tr>\n",
              "      <th>35004</th>\n",
              "      <td>0</td>\n",
              "      <td>film ha one bore film ever make thing like use...</td>\n",
              "    </tr>\n",
              "    <tr>\n",
              "      <th>35005</th>\n",
              "      <td>1</td>\n",
              "      <td>unfortunately  stumble onto show late lifetime...</td>\n",
              "    </tr>\n",
              "    <tr>\n",
              "      <th>35006</th>\n",
              "      <td>1</td>\n",
              "      <td>first hear movie think would like duchess2008 ...</td>\n",
              "    </tr>\n",
              "    <tr>\n",
              "      <th>35007</th>\n",
              "      <td>1</td>\n",
              "      <td>sheba baby always underrate likely ha pg rat i...</td>\n",
              "    </tr>\n",
              "    <tr>\n",
              "      <th>35008</th>\n",
              "      <td>1</td>\n",
              "      <td>sit part che last night back back brief bathro...</td>\n",
              "    </tr>\n",
              "    <tr>\n",
              "      <th>35009</th>\n",
              "      <td>0</td>\n",
              "      <td>whatever possess guy ritchie remake wertmuller...</td>\n",
              "    </tr>\n",
              "    <tr>\n",
              "      <th>35010</th>\n",
              "      <td>1</td>\n",
              "      <td>sally saint anne funny movie first time mom te...</td>\n",
              "    </tr>\n",
              "    <tr>\n",
              "      <th>35011</th>\n",
              "      <td>0</td>\n",
              "      <td>catherine zetajones aaron eckhart star romanti...</td>\n",
              "    </tr>\n",
              "    <tr>\n",
              "      <th>35012</th>\n",
              "      <td>1</td>\n",
              "      <td>across great divide call understand still much...</td>\n",
              "    </tr>\n",
              "    <tr>\n",
              "      <th>35013</th>\n",
              "      <td>1</td>\n",
              "      <td>thoroughly enjoy film many way hitchcock sever...</td>\n",
              "    </tr>\n",
              "    <tr>\n",
              "      <th>35014</th>\n",
              "      <td>0</td>\n",
              "      <td>movie available special bonus feature doubledi...</td>\n",
              "    </tr>\n",
              "    <tr>\n",
              "      <th>35015</th>\n",
              "      <td>1</td>\n",
              "      <td>live time think program catch heart era think ...</td>\n",
              "    </tr>\n",
              "    <tr>\n",
              "      <th>35016</th>\n",
              "      <td>1</td>\n",
              "      <td>john thaw excellent actor admit wa impress ran...</td>\n",
              "    </tr>\n",
              "    <tr>\n",
              "      <th>35017</th>\n",
              "      <td>1</td>\n",
              "      <td>follow directly last episode previous series y...</td>\n",
              "    </tr>\n",
              "    <tr>\n",
              "      <th>35018</th>\n",
              "      <td>1</td>\n",
              "      <td>watch sleeper cell bite trepidation worry whet...</td>\n",
              "    </tr>\n",
              "    <tr>\n",
              "      <th>35019</th>\n",
              "      <td>0</td>\n",
              "      <td>ive always think huge boxoffice flop usually s...</td>\n",
              "    </tr>\n",
              "    <tr>\n",
              "      <th>35020</th>\n",
              "      <td>0</td>\n",
              "      <td>film name modesty base around episode take one...</td>\n",
              "    </tr>\n",
              "    <tr>\n",
              "      <th>35021</th>\n",
              "      <td>1</td>\n",
              "      <td>dirty harry series begin gritty cop action wa ...</td>\n",
              "    </tr>\n",
              "    <tr>\n",
              "      <th>35022</th>\n",
              "      <td>1</td>\n",
              "      <td>though plot element eighth day seem like plent...</td>\n",
              "    </tr>\n",
              "    <tr>\n",
              "      <th>35023</th>\n",
              "      <td>0</td>\n",
              "      <td>cage play drink get high critically praise eli...</td>\n",
              "    </tr>\n",
              "    <tr>\n",
              "      <th>35024</th>\n",
              "      <td>1</td>\n",
              "      <td>imagine world everyone treat anyone nicely fou...</td>\n",
              "    </tr>\n",
              "    <tr>\n",
              "      <th>35025</th>\n",
              "      <td>1</td>\n",
              "      <td>man think people forget watch movie everyone t...</td>\n",
              "    </tr>\n",
              "    <tr>\n",
              "      <th>35026</th>\n",
              "      <td>0</td>\n",
              "      <td>pick video read text box story seem good keanu...</td>\n",
              "    </tr>\n",
              "    <tr>\n",
              "      <th>35027</th>\n",
              "      <td>0</td>\n",
              "      <td>terrible film suppose independent one need dep...</td>\n",
              "    </tr>\n",
              "    <tr>\n",
              "      <th>35028</th>\n",
              "      <td>1</td>\n",
              "      <td>film age geisha post war tokyo okin play incre...</td>\n",
              "    </tr>\n",
              "    <tr>\n",
              "      <th>35029</th>\n",
              "      <td>0</td>\n",
              "      <td>best lone star series move along quickly good ...</td>\n",
              "    </tr>\n",
              "    <tr>\n",
              "      <th>...</th>\n",
              "      <td>...</td>\n",
              "      <td>...</td>\n",
              "    </tr>\n",
              "    <tr>\n",
              "      <th>49970</th>\n",
              "      <td>1</td>\n",
              "      <td>youth u pitchperfect gem saw stun short year 2...</td>\n",
              "    </tr>\n",
              "    <tr>\n",
              "      <th>49971</th>\n",
              "      <td>1</td>\n",
              "      <td>fun fact wa baby movie one crib  19 year old p...</td>\n",
              "    </tr>\n",
              "    <tr>\n",
              "      <th>49972</th>\n",
              "      <td>0</td>\n",
              "      <td>keanu reef star friend popular high school stu...</td>\n",
              "    </tr>\n",
              "    <tr>\n",
              "      <th>49973</th>\n",
              "      <td>1</td>\n",
              "      <td>know walter never grace another seti wa 30 fir...</td>\n",
              "    </tr>\n",
              "    <tr>\n",
              "      <th>49974</th>\n",
              "      <td>0</td>\n",
              "      <td>love everyone treat show like wa next great am...</td>\n",
              "    </tr>\n",
              "    <tr>\n",
              "      <th>49975</th>\n",
              "      <td>1</td>\n",
              "      <td>understand check likely release theatre usa ju...</td>\n",
              "    </tr>\n",
              "    <tr>\n",
              "      <th>49976</th>\n",
              "      <td>0</td>\n",
              "      <td>wa awe film look promos go watch fdfs film wa ...</td>\n",
              "    </tr>\n",
              "    <tr>\n",
              "      <th>49977</th>\n",
              "      <td>1</td>\n",
              "      <td>let first state view every episode startrek le...</td>\n",
              "    </tr>\n",
              "    <tr>\n",
              "      <th>49978</th>\n",
              "      <td>1</td>\n",
              "      <td>saw film festival year ago wa impress start lo...</td>\n",
              "    </tr>\n",
              "    <tr>\n",
              "      <th>49979</th>\n",
              "      <td>1</td>\n",
              "      <td>baseketball indeed really funny movie david zu...</td>\n",
              "    </tr>\n",
              "    <tr>\n",
              "      <th>49980</th>\n",
              "      <td>1</td>\n",
              "      <td>film get roast boy mst3k actually neat nasty p...</td>\n",
              "    </tr>\n",
              "    <tr>\n",
              "      <th>49981</th>\n",
              "      <td>1</td>\n",
              "      <td>frank sinatra first three film wa purely speci...</td>\n",
              "    </tr>\n",
              "    <tr>\n",
              "      <th>49982</th>\n",
              "      <td>0</td>\n",
              "      <td>spoiler br br government ha continue develop ...</td>\n",
              "    </tr>\n",
              "    <tr>\n",
              "      <th>49983</th>\n",
              "      <td>0</td>\n",
              "      <td>actor independent writerdirector john cassavet...</td>\n",
              "    </tr>\n",
              "    <tr>\n",
              "      <th>49984</th>\n",
              "      <td>1</td>\n",
              "      <td>awesome film come theatre feel stun film see w...</td>\n",
              "    </tr>\n",
              "    <tr>\n",
              "      <th>49985</th>\n",
              "      <td>0</td>\n",
              "      <td>avid disney fan wa totally impress movie certa...</td>\n",
              "    </tr>\n",
              "    <tr>\n",
              "      <th>49986</th>\n",
              "      <td>0</td>\n",
              "      <td>begin br br 1 amitabhs son play akshaye khanna...</td>\n",
              "    </tr>\n",
              "    <tr>\n",
              "      <th>49987</th>\n",
              "      <td>0</td>\n",
              "      <td>like film ramble little plot exposition spice ...</td>\n",
              "    </tr>\n",
              "    <tr>\n",
              "      <th>49988</th>\n",
              "      <td>0</td>\n",
              "      <td>spoiler spoiler earth  2000 12 fourbr br mark ...</td>\n",
              "    </tr>\n",
              "    <tr>\n",
              "      <th>49989</th>\n",
              "      <td>0</td>\n",
              "      <td>cannes controversymeter remarkably esoteric am...</td>\n",
              "    </tr>\n",
              "    <tr>\n",
              "      <th>49990</th>\n",
              "      <td>0</td>\n",
              "      <td>although series mini film particular important...</td>\n",
              "    </tr>\n",
              "    <tr>\n",
              "      <th>49991</th>\n",
              "      <td>0</td>\n",
              "      <td>wa good story well tell like theme main story ...</td>\n",
              "    </tr>\n",
              "    <tr>\n",
              "      <th>49992</th>\n",
              "      <td>1</td>\n",
              "      <td>long overdue concert release rushinrio dvd com...</td>\n",
              "    </tr>\n",
              "    <tr>\n",
              "      <th>49993</th>\n",
              "      <td>1</td>\n",
              "      <td>like spoiler teenager holly tyler amanda bynes...</td>\n",
              "    </tr>\n",
              "    <tr>\n",
              "      <th>49994</th>\n",
              "      <td>0</td>\n",
              "      <td>two day ago get chance watch movie cable tvasi...</td>\n",
              "    </tr>\n",
              "    <tr>\n",
              "      <th>49995</th>\n",
              "      <td>0</td>\n",
              "      <td>aka blood castle scream demonbr br spoilerbr b...</td>\n",
              "    </tr>\n",
              "    <tr>\n",
              "      <th>49996</th>\n",
              "      <td>0</td>\n",
              "      <td>never really interest cannibal movie couple mo...</td>\n",
              "    </tr>\n",
              "    <tr>\n",
              "      <th>49997</th>\n",
              "      <td>1</td>\n",
              "      <td>watch nightbreed first time since see theater ...</td>\n",
              "    </tr>\n",
              "    <tr>\n",
              "      <th>49998</th>\n",
              "      <td>1</td>\n",
              "      <td>showtime cable film feature talented cast weav...</td>\n",
              "    </tr>\n",
              "    <tr>\n",
              "      <th>49999</th>\n",
              "      <td>1</td>\n",
              "      <td>spoiler spoiler easy see script film win oscar...</td>\n",
              "    </tr>\n",
              "  </tbody>\n",
              "</table>\n",
              "<p>15000 rows × 2 columns</p>\n",
              "</div>"
            ],
            "text/plain": [
              "       sentiment                                  Processed_Reviews\n",
              "35000          1  watch lappartement girlfriend sigh complicate ...\n",
              "35001          0  work memorial hermann hospital tmc wa also wor...\n",
              "35002          0  steve irwins show hillarious doesnt even try f...\n",
              "35003          0  hire movie expect laugh hopefully enough keep ...\n",
              "35004          0  film ha one bore film ever make thing like use...\n",
              "35005          1  unfortunately  stumble onto show late lifetime...\n",
              "35006          1  first hear movie think would like duchess2008 ...\n",
              "35007          1  sheba baby always underrate likely ha pg rat i...\n",
              "35008          1  sit part che last night back back brief bathro...\n",
              "35009          0  whatever possess guy ritchie remake wertmuller...\n",
              "35010          1  sally saint anne funny movie first time mom te...\n",
              "35011          0  catherine zetajones aaron eckhart star romanti...\n",
              "35012          1  across great divide call understand still much...\n",
              "35013          1  thoroughly enjoy film many way hitchcock sever...\n",
              "35014          0  movie available special bonus feature doubledi...\n",
              "35015          1  live time think program catch heart era think ...\n",
              "35016          1  john thaw excellent actor admit wa impress ran...\n",
              "35017          1  follow directly last episode previous series y...\n",
              "35018          1  watch sleeper cell bite trepidation worry whet...\n",
              "35019          0  ive always think huge boxoffice flop usually s...\n",
              "35020          0  film name modesty base around episode take one...\n",
              "35021          1  dirty harry series begin gritty cop action wa ...\n",
              "35022          1  though plot element eighth day seem like plent...\n",
              "35023          0  cage play drink get high critically praise eli...\n",
              "35024          1  imagine world everyone treat anyone nicely fou...\n",
              "35025          1  man think people forget watch movie everyone t...\n",
              "35026          0  pick video read text box story seem good keanu...\n",
              "35027          0  terrible film suppose independent one need dep...\n",
              "35028          1  film age geisha post war tokyo okin play incre...\n",
              "35029          0  best lone star series move along quickly good ...\n",
              "...          ...                                                ...\n",
              "49970          1  youth u pitchperfect gem saw stun short year 2...\n",
              "49971          1  fun fact wa baby movie one crib  19 year old p...\n",
              "49972          0  keanu reef star friend popular high school stu...\n",
              "49973          1  know walter never grace another seti wa 30 fir...\n",
              "49974          0  love everyone treat show like wa next great am...\n",
              "49975          1  understand check likely release theatre usa ju...\n",
              "49976          0  wa awe film look promos go watch fdfs film wa ...\n",
              "49977          1  let first state view every episode startrek le...\n",
              "49978          1  saw film festival year ago wa impress start lo...\n",
              "49979          1  baseketball indeed really funny movie david zu...\n",
              "49980          1  film get roast boy mst3k actually neat nasty p...\n",
              "49981          1  frank sinatra first three film wa purely speci...\n",
              "49982          0   spoiler br br government ha continue develop ...\n",
              "49983          0  actor independent writerdirector john cassavet...\n",
              "49984          1  awesome film come theatre feel stun film see w...\n",
              "49985          0  avid disney fan wa totally impress movie certa...\n",
              "49986          0  begin br br 1 amitabhs son play akshaye khanna...\n",
              "49987          0  like film ramble little plot exposition spice ...\n",
              "49988          0  spoiler spoiler earth  2000 12 fourbr br mark ...\n",
              "49989          0  cannes controversymeter remarkably esoteric am...\n",
              "49990          0  although series mini film particular important...\n",
              "49991          0  wa good story well tell like theme main story ...\n",
              "49992          1  long overdue concert release rushinrio dvd com...\n",
              "49993          1  like spoiler teenager holly tyler amanda bynes...\n",
              "49994          0  two day ago get chance watch movie cable tvasi...\n",
              "49995          0  aka blood castle scream demonbr br spoilerbr b...\n",
              "49996          0  never really interest cannibal movie couple mo...\n",
              "49997          1  watch nightbreed first time since see theater ...\n",
              "49998          1  showtime cable film feature talented cast weav...\n",
              "49999          1  spoiler spoiler easy see script film win oscar...\n",
              "\n",
              "[15000 rows x 2 columns]"
            ]
          },
          "metadata": {
            "tags": []
          },
          "execution_count": 12
        }
      ]
    },
    {
      "metadata": {
        "id": "q25MMjAbtJIP",
        "colab_type": "code",
        "colab": {}
      },
      "cell_type": "code",
      "source": [
        "import numpy as np\n",
        "\n",
        "train_reviews = np.array(trd['Processed_Reviews'])\n",
        "train_sentiments = np.array(trd['sentiment'])\n",
        "test_reviews = np.array(ted['Processed_Reviews'])\n",
        "test_sentiments = np.array(ted['sentiment'])"
      ],
      "execution_count": 0,
      "outputs": []
    },
    {
      "metadata": {
        "id": "sOaiCHvLtJIa",
        "colab_type": "code",
        "outputId": "e2a63240-e0b4-4229-aa93-345b0507528e",
        "colab": {
          "base_uri": "https://localhost:8080/",
          "height": 54
        }
      },
      "cell_type": "code",
      "source": [
        "\n",
        "test_reviews[5817]"
      ],
      "execution_count": 14,
      "outputs": [
        {
          "output_type": "execute_result",
          "data": {
            "text/plain": [
              "'film faithful book upon base judge timespanning 2007 adaptation khaled hosseinis huge 2003 seller answer rather ironically yes like many wa enthral book impressive first effort afghanamerican writerphysician obviously director marc forster stranger fiction screenwriter david benioff troy pay meticulous attention significant detail story within film 127minute run time yet seamless tapestry heartfelt event hosseinis novel often come across episodic truncate forster benioff sincerely try hard remain true full scope story within time constraint part challenge hosseini carefully use symbolic act provide literary thenandnow symmetry essentially threeact story technique come across somewhat contrive screen.<br /><br />however, filmmaker important thing right, specifically give viewer intimate look hide culture heretofore convey cnn news reports, ensure authenticity character speak dari persian dialect afghan language, capture emotional entanglement complex narrative. first part movie set 1978 afghanistan soviet invasion eventual takeover taliban. focus relationship amir, son affluent businessman name baba, devote hassan, son father\\'s servant. connect mutual love kite running, two thick thief tragic event separate irreparably. unable find courage come naturally father, amir cripple guilt rescue hassan unspeakable act perform trio local bullies. forster make especially palpable ethnic tension hazara pashtun afghanistan.<br /><br />upon 1979 invasion soviet troops, amir baba flee u.s. story pick story nine year later fremont, california, suburban enclave afghan émigrés. baba reduce work gas station operate flea market kiosk. amir meet local afghan girl marries. film\\'s least interest passage since benioff\\'s treatment give short shrift ancillary character like amir\\'s wife soraya critically, amir portray necessity reticent young man downward cast toward self-esteem. final section flash forward twelve year amir, upon publication first book, summon back taliban-dictated afghanistan rescue hassan\\'s son taliban, mean atone cowardice year earlier. true suspense fear generate portion story shock revelation old acquaintance come back haunt amir journey.<br /><br />a british actor egyptian heritage, khalid abdalla (the lead hijacker \"united 93\") ha central role amir adult, challenge role since ha convey constant sense shame diminish self-worth end. professional actor fare better - shaun toub (tony stark\\'s savior yinsen current \"iron man\") baba\\'s business partner rahim khan, hold key truth; atossa leoni quietly affect soraya; best all, iranian actor homayoun ershadi bring pride dignity baba. three young non-professionals recruit kabul\\'s school system play key child roles, quite good. zekeria ebrahimi challenge toughest part young amir, ali danish bakhtyari poignant hassan\\'s nearly catatonic son sohrab. sad-eyed, moon-faced ahmad khan mahmoodzada break heart young hassan, especially devastate pomegranate-throwing scene. fair say performance par young enzo staiola\\'s vittorio de sica\\'s classic \"bicycle thieves\".<br /><br />the technical aspect well done, particular, roberto schaefer\\'s clean cinematography (western china convincingly substitute afghanistan), alberto iglesias\\' evocative score, even cgi effect showcasing kite turbulent flight. 2008 dvd ha solid set extra begin insightful commentary forster, hosseini, benioff, although dialogue seem rather forced. two featurettes include - first 14-minute \"words kite runner\", focus hosseini\\'s connection story development novel, second 25-minute \"images kite runner\", standard behind-the-scenes look production. round extra original theatrical trailer, previews, psa hosseini help afghan current time need.'"
            ]
          },
          "metadata": {
            "tags": []
          },
          "execution_count": 14
        }
      ]
    },
    {
      "metadata": {
        "id": "tTkIdzzhtJIg",
        "colab_type": "code",
        "outputId": "1b9ffc86-5f74-41e7-e817-862b6a837775",
        "colab": {
          "base_uri": "https://localhost:8080/",
          "height": 318
        }
      },
      "cell_type": "code",
      "source": [
        "sample_docs = [100, 5817, 7626, 7356, 1008, 7155, 3533, 13010]\n",
        "sample_data = [(test_reviews[index],\n",
        "                test_sentiments[index])\n",
        "                  for index in sample_docs]\n",
        "\n",
        "sample_data  "
      ],
      "execution_count": 15,
      "outputs": [
        {
          "output_type": "execute_result",
          "data": {
            "text/plain": [
              "[('third entry stepford franchise apparently three madefortv obscure sequel incredibly obscure hard trace whereas 70 original well blockbuster remake nicole kidman commonly know popular havent see either early 80 revenge stepford wife mid 90 stepford husband stepford child quite charm highly entertain little film basically exact film original obviously le mysterious yet much cheesier incredibly 80 nth degree main difference like title imply liberate wife also rebellious punk teenage offspring town undergo typical highly effective stepford treatment license local men association reason scenario attempt uphold stepford mystery late film even though nobody likely watch sequel check original presumably everybody also know denouement harding family pack ready move grisly city new york small peaceful community stepford. particularly father steven excite new life already live stepford always want go back ever since first wife, new wife laura adolescent child mary david know little about, die mysterious circumstances. town almost perfect, picturesque neighbor model students, especially modern teenager face huge difficulty adjust. effort modernize place take local youth stanford tow cause confrontation eminent townsfolk, particularly member men\\'s association, put familial relationship lot stress. david meet fall love last \"normal\" girl school lois, even transform domestic dummy overnight, david convince skeptical mother investigate sinister stanford secret. first hour \"the stanford children\" slow-paced rather tame, finale trashy cheesy like vhs cover promise like late 80\\'s thriller ought be, fact. modus operandi behind stanford secret illustrate greater detail, think horror fan lover original film appreciate that. least, did. overall plot still make lot sense script chock-full irrational aspects, nonetheless engage formula undoubtedly one evoke atmosphere suspense fear. act performance far average. especially arrogant obnoxious member men\\'s association depict plausible character even teenage player tammy lauren randall batinkoff give away impressive performances. recommend without hesitation!',\n",
              "  1),\n",
              " ('film faithful book upon base judge timespanning 2007 adaptation khaled hosseinis huge 2003 seller answer rather ironically yes like many wa enthral book impressive first effort afghanamerican writerphysician obviously director marc forster stranger fiction screenwriter david benioff troy pay meticulous attention significant detail story within film 127minute run time yet seamless tapestry heartfelt event hosseinis novel often come across episodic truncate forster benioff sincerely try hard remain true full scope story within time constraint part challenge hosseini carefully use symbolic act provide literary thenandnow symmetry essentially threeact story technique come across somewhat contrive screen.<br /><br />however, filmmaker important thing right, specifically give viewer intimate look hide culture heretofore convey cnn news reports, ensure authenticity character speak dari persian dialect afghan language, capture emotional entanglement complex narrative. first part movie set 1978 afghanistan soviet invasion eventual takeover taliban. focus relationship amir, son affluent businessman name baba, devote hassan, son father\\'s servant. connect mutual love kite running, two thick thief tragic event separate irreparably. unable find courage come naturally father, amir cripple guilt rescue hassan unspeakable act perform trio local bullies. forster make especially palpable ethnic tension hazara pashtun afghanistan.<br /><br />upon 1979 invasion soviet troops, amir baba flee u.s. story pick story nine year later fremont, california, suburban enclave afghan émigrés. baba reduce work gas station operate flea market kiosk. amir meet local afghan girl marries. film\\'s least interest passage since benioff\\'s treatment give short shrift ancillary character like amir\\'s wife soraya critically, amir portray necessity reticent young man downward cast toward self-esteem. final section flash forward twelve year amir, upon publication first book, summon back taliban-dictated afghanistan rescue hassan\\'s son taliban, mean atone cowardice year earlier. true suspense fear generate portion story shock revelation old acquaintance come back haunt amir journey.<br /><br />a british actor egyptian heritage, khalid abdalla (the lead hijacker \"united 93\") ha central role amir adult, challenge role since ha convey constant sense shame diminish self-worth end. professional actor fare better - shaun toub (tony stark\\'s savior yinsen current \"iron man\") baba\\'s business partner rahim khan, hold key truth; atossa leoni quietly affect soraya; best all, iranian actor homayoun ershadi bring pride dignity baba. three young non-professionals recruit kabul\\'s school system play key child roles, quite good. zekeria ebrahimi challenge toughest part young amir, ali danish bakhtyari poignant hassan\\'s nearly catatonic son sohrab. sad-eyed, moon-faced ahmad khan mahmoodzada break heart young hassan, especially devastate pomegranate-throwing scene. fair say performance par young enzo staiola\\'s vittorio de sica\\'s classic \"bicycle thieves\".<br /><br />the technical aspect well done, particular, roberto schaefer\\'s clean cinematography (western china convincingly substitute afghanistan), alberto iglesias\\' evocative score, even cgi effect showcasing kite turbulent flight. 2008 dvd ha solid set extra begin insightful commentary forster, hosseini, benioff, although dialogue seem rather forced. two featurettes include - first 14-minute \"words kite runner\", focus hosseini\\'s connection story development novel, second 25-minute \"images kite runner\", standard behind-the-scenes look production. round extra original theatrical trailer, previews, psa hosseini help afghan current time need.',\n",
              "  1),\n",
              " (\"perfect murder foil wifeplayed mary ellen trainor wife director robert zemeckis helm episode murder husband poker ha misfortune receive visitor move body outsidean escape insane madman dress santa claus suitplayed deviously hideous larry drake fend life try find way hide husband corpse decide use ax santa killer miss several chance chop woman head frame killer husband murder santa killer lock closet pursue woman daughter try desperate free save childbr br episode tale crypt recycle tire material involve old santa kill theme also add oftusedadd nauseumwomanmurders-her-husband-for-a-man-she's-been-cheating-with routine. essentially trainor try find way avoid catch dead body kill also keep safe distance maniac. there's nothing refresh new plot pretty much go motions. one show's highlights.\",\n",
              "  0),\n",
              " ('turn woman romancesoapsuspense film hop wassimply tense thriller yes final 20 minute suspenseful much previous 75 border plain tediousbr br ruter hauer wa little subdue play normal intense character natasha richardson sport somewhat dumb look time character wa unappealingbr br story soso bad im make sure isnt anything id watch again, back vhs describe movie wa misleading.',\n",
              "  0),\n",
              " ('wasnt impress film find quite tiresome plain plot line wa interest kid create college enrol hundred kid laugh far joke werent really funny didnt bust gut scene character werent intrigue didnt feel even dawky fat kid glass try enter frat group wa good first watch didnt blow away one would recommend compare film genre ie american pie cruel film wa laughaplenty accept fail raise smile',\n",
              "  0),\n",
              " ('seem shame greta garbo end illustrious career age 36 ridiculous mistakenidentity marital romp come success first romantic comedy ernst lubitsch masterful ninotchka 1939 wa ideally cast austere russian envoy garbo reunite lead man melvyn douglas sitcomlevel story ha play karin borg plainjane ski instructor impulsively marry publish executive larry blake become smite make clear work priority karin inadvertently decide masquerade highliving twin sister katherine test husband fidelity back manhattanbr br surprise infamous 1941 misfire wa direct george cukor lead garbo greatest dramatic performance 1937s camille unflattering vehicle one could imagine screen legend someone carole lombard natural sense ease mischief could get away shenanigan present by-the-numbers script s.n. behrman, salka viertel george oppenheimer. mgm\\'s intent behind comedy wa contemporize americanize garbo\\'s image wartime audience studio head felt interest tragic period character favor thirties.<br /><br />however, garbo appear ill-at-ease mostly bogus party girl katherine especially compare expert farceurs like douglas constance bennett romantic rival griselda. photograph unflatteringly joseph ruttenberg, garbo look tire many scene downright hideous tease hairdo \"chica-choca\" dance sequence. story end conventionally addition lengthy physical sequence larry try maneuver ski series mountain cliff unfortunately remind sonny bono\\'s death. roland young ruth gordon (in rare appearance point career) show comic support role douglas\\' associates. movie yet dvd, consider priority transfer represent curio garbo\\'s otherwise legendary career. wa reportedly quite unhappy filming. see why.',\n",
              "  0),\n",
              " ('wish could meet ida lupino people ask could 6 extraordinary 20th century person dinner well one person would think one great unsung unprofiled personality film industry life story would make great tele movie hey mr bogdanovich ida lupino ha drive force many fascinate noir film 40 50 remember sadden see reduce horrible part ghastly aip film late 70 wa bite big worm kitchen sink ugh contact die long part worm high sierra roadhouse extraordinary rko thriller dangerous grind ida lupino wa often producer lead actress later husband howard duff produce many timeless noir drama still engross today one jennifer think last film monogram picture copyright monogram change company name formally ally artist 1953 jennifer ha company name open credit superior haunt house thriller equally scary innocent haunt make 8 year later really chill creepy, tiny film exactly sort really good film ida lupino make wa responsible for. try find it...you always remember feel, much admiration great almost forget actress/producer.',\n",
              "  1),\n",
              " ('tyra  rest model world need know real woman like daughter dont care see ridiculous model sell something weird location much makeup  much skin necessary sex doe always sell sell woman go horse stomp runway walk look unnatural people come shape  size  need show daughter ha 36 inseam tall  slender  size 5 average size 12 would like see picture something would look size 2 wear fit way buy magazine anymore one side matter would really love show consider woman size thank',\n",
              "  0)]"
            ]
          },
          "metadata": {
            "tags": []
          },
          "execution_count": 15
        }
      ]
    },
    {
      "metadata": {
        "id": "reCDLC7BtJIl",
        "colab_type": "code",
        "colab": {}
      },
      "cell_type": "code",
      "source": [
        "from sklearn.feature_extraction.text import CountVectorizer, TfidfVectorizer\n",
        "\n",
        "def build_feature_matrix(documents, feature_type='frequency',\n",
        "                         ngram_range=(1, 1), min_df=0.0, max_df=1.0):\n",
        "\n",
        "    feature_type = feature_type.lower().strip()  \n",
        "    \n",
        "    if feature_type == 'binary':\n",
        "        vectorizer = CountVectorizer(binary=True, min_df=min_df,\n",
        "                                     max_df=max_df, ngram_range=ngram_range)\n",
        "    elif feature_type == 'frequency':\n",
        "        vectorizer = CountVectorizer(binary=False, min_df=min_df,\n",
        "                                     max_df=max_df, ngram_range=ngram_range)\n",
        "    elif feature_type == 'tfidf':\n",
        "        vectorizer = TfidfVectorizer(min_df=min_df, max_df=max_df, \n",
        "                                     ngram_range=ngram_range)\n",
        "    else:\n",
        "        raise Exception(\"Wrong feature type entered. Possible values: 'binary', 'frequency', 'tfidf'\")\n",
        "\n",
        "    feature_matrix = vectorizer.fit_transform(documents).astype(float)\n",
        "    \n",
        "    return vectorizer, feature_matrix"
      ],
      "execution_count": 0,
      "outputs": []
    },
    {
      "metadata": {
        "id": "fLKlUrxwtJKd",
        "colab_type": "code",
        "colab": {}
      },
      "cell_type": "code",
      "source": [
        "vectorizer=TfidfVectorizer(ngram_range=(1, 1), min_df=0.0, max_df=1.0)"
      ],
      "execution_count": 0,
      "outputs": []
    },
    {
      "metadata": {
        "id": "AckevYE4tJKo",
        "colab_type": "code",
        "colab": {}
      },
      "cell_type": "code",
      "source": [
        "vectorizer, train_features = build_feature_matrix(documents=train_reviews,\n",
        "                                                  feature_type='tfidf',\n",
        "                                                  ngram_range=(1, 1), \n",
        "                                                  min_df=0.0, max_df=1.0)                                      \n",
        "                                      "
      ],
      "execution_count": 0,
      "outputs": []
    },
    {
      "metadata": {
        "id": "dNB31iIWtJKx",
        "colab_type": "code",
        "outputId": "51af88e9-c7e3-44a2-d7b4-78c2c934bab9",
        "colab": {
          "base_uri": "https://localhost:8080/",
          "height": 178
        }
      },
      "cell_type": "code",
      "source": [
        "from sklearn.linear_model import SGDClassifier\n",
        "# build the model\n",
        "svm = SGDClassifier(loss='hinge', n_iter=500)\n",
        "svm.fit(train_features, train_sentiments)"
      ],
      "execution_count": 19,
      "outputs": [
        {
          "output_type": "stream",
          "text": [
            "/usr/local/lib/python3.6/dist-packages/sklearn/linear_model/stochastic_gradient.py:152: DeprecationWarning: n_iter parameter is deprecated in 0.19 and will be removed in 0.21. Use max_iter and tol instead.\n",
            "  DeprecationWarning)\n"
          ],
          "name": "stderr"
        },
        {
          "output_type": "execute_result",
          "data": {
            "text/plain": [
              "SGDClassifier(alpha=0.0001, average=False, class_weight=None,\n",
              "       early_stopping=False, epsilon=0.1, eta0=0.0, fit_intercept=True,\n",
              "       l1_ratio=0.15, learning_rate='optimal', loss='hinge', max_iter=None,\n",
              "       n_iter=500, n_iter_no_change=5, n_jobs=None, penalty='l2',\n",
              "       power_t=0.5, random_state=None, shuffle=True, tol=None,\n",
              "       validation_fraction=0.1, verbose=0, warm_start=False)"
            ]
          },
          "metadata": {
            "tags": []
          },
          "execution_count": 19
        }
      ]
    },
    {
      "metadata": {
        "id": "xOGAYjhqtJK1",
        "colab_type": "code",
        "colab": {}
      },
      "cell_type": "code",
      "source": [
        "test_features = vectorizer.transform(test_reviews) "
      ],
      "execution_count": 0,
      "outputs": []
    },
    {
      "metadata": {
        "id": "RneqU4c5tJK5",
        "colab_type": "code",
        "outputId": "ed13ff7f-082f-4265-fc89-fca882177154",
        "colab": {
          "base_uri": "https://localhost:8080/",
          "height": 741
        }
      },
      "cell_type": "code",
      "source": [
        "for doc_index in sample_docs:\n",
        "    print ('Review:-')\n",
        "    print (test_reviews[doc_index])\n",
        "    print ('Actual Labeled Sentiment:', test_sentiments[doc_index])\n",
        "    doc_features = test_features[doc_index]\n",
        "    predicted_sentiment = svm.predict(doc_features)[0]\n",
        "    print ('Predicted Sentiment:', predicted_sentiment)\n",
        "    print(\"\")"
      ],
      "execution_count": 21,
      "outputs": [
        {
          "output_type": "stream",
          "text": [
            "Review:-\n",
            "third entry stepford franchise apparently three madefortv obscure sequel incredibly obscure hard trace whereas 70 original well blockbuster remake nicole kidman commonly know popular havent see either early 80 revenge stepford wife mid 90 stepford husband stepford child quite charm highly entertain little film basically exact film original obviously le mysterious yet much cheesier incredibly 80 nth degree main difference like title imply liberate wife also rebellious punk teenage offspring town undergo typical highly effective stepford treatment license local men association reason scenario attempt uphold stepford mystery late film even though nobody likely watch sequel check original presumably everybody also know denouement harding family pack ready move grisly city new york small peaceful community stepford. particularly father steven excite new life already live stepford always want go back ever since first wife, new wife laura adolescent child mary david know little about, die mysterious circumstances. town almost perfect, picturesque neighbor model students, especially modern teenager face huge difficulty adjust. effort modernize place take local youth stanford tow cause confrontation eminent townsfolk, particularly member men's association, put familial relationship lot stress. david meet fall love last \"normal\" girl school lois, even transform domestic dummy overnight, david convince skeptical mother investigate sinister stanford secret. first hour \"the stanford children\" slow-paced rather tame, finale trashy cheesy like vhs cover promise like late 80's thriller ought be, fact. modus operandi behind stanford secret illustrate greater detail, think horror fan lover original film appreciate that. least, did. overall plot still make lot sense script chock-full irrational aspects, nonetheless engage formula undoubtedly one evoke atmosphere suspense fear. act performance far average. especially arrogant obnoxious member men's association depict plausible character even teenage player tammy lauren randall batinkoff give away impressive performances. recommend without hesitation!\n",
            "Actual Labeled Sentiment: 1\n",
            "Predicted Sentiment: 1\n",
            "\n",
            "Review:-\n",
            "film faithful book upon base judge timespanning 2007 adaptation khaled hosseinis huge 2003 seller answer rather ironically yes like many wa enthral book impressive first effort afghanamerican writerphysician obviously director marc forster stranger fiction screenwriter david benioff troy pay meticulous attention significant detail story within film 127minute run time yet seamless tapestry heartfelt event hosseinis novel often come across episodic truncate forster benioff sincerely try hard remain true full scope story within time constraint part challenge hosseini carefully use symbolic act provide literary thenandnow symmetry essentially threeact story technique come across somewhat contrive screen.<br /><br />however, filmmaker important thing right, specifically give viewer intimate look hide culture heretofore convey cnn news reports, ensure authenticity character speak dari persian dialect afghan language, capture emotional entanglement complex narrative. first part movie set 1978 afghanistan soviet invasion eventual takeover taliban. focus relationship amir, son affluent businessman name baba, devote hassan, son father's servant. connect mutual love kite running, two thick thief tragic event separate irreparably. unable find courage come naturally father, amir cripple guilt rescue hassan unspeakable act perform trio local bullies. forster make especially palpable ethnic tension hazara pashtun afghanistan.<br /><br />upon 1979 invasion soviet troops, amir baba flee u.s. story pick story nine year later fremont, california, suburban enclave afghan émigrés. baba reduce work gas station operate flea market kiosk. amir meet local afghan girl marries. film's least interest passage since benioff's treatment give short shrift ancillary character like amir's wife soraya critically, amir portray necessity reticent young man downward cast toward self-esteem. final section flash forward twelve year amir, upon publication first book, summon back taliban-dictated afghanistan rescue hassan's son taliban, mean atone cowardice year earlier. true suspense fear generate portion story shock revelation old acquaintance come back haunt amir journey.<br /><br />a british actor egyptian heritage, khalid abdalla (the lead hijacker \"united 93\") ha central role amir adult, challenge role since ha convey constant sense shame diminish self-worth end. professional actor fare better - shaun toub (tony stark's savior yinsen current \"iron man\") baba's business partner rahim khan, hold key truth; atossa leoni quietly affect soraya; best all, iranian actor homayoun ershadi bring pride dignity baba. three young non-professionals recruit kabul's school system play key child roles, quite good. zekeria ebrahimi challenge toughest part young amir, ali danish bakhtyari poignant hassan's nearly catatonic son sohrab. sad-eyed, moon-faced ahmad khan mahmoodzada break heart young hassan, especially devastate pomegranate-throwing scene. fair say performance par young enzo staiola's vittorio de sica's classic \"bicycle thieves\".<br /><br />the technical aspect well done, particular, roberto schaefer's clean cinematography (western china convincingly substitute afghanistan), alberto iglesias' evocative score, even cgi effect showcasing kite turbulent flight. 2008 dvd ha solid set extra begin insightful commentary forster, hosseini, benioff, although dialogue seem rather forced. two featurettes include - first 14-minute \"words kite runner\", focus hosseini's connection story development novel, second 25-minute \"images kite runner\", standard behind-the-scenes look production. round extra original theatrical trailer, previews, psa hosseini help afghan current time need.\n",
            "Actual Labeled Sentiment: 1\n",
            "Predicted Sentiment: 1\n",
            "\n",
            "Review:-\n",
            "perfect murder foil wifeplayed mary ellen trainor wife director robert zemeckis helm episode murder husband poker ha misfortune receive visitor move body outsidean escape insane madman dress santa claus suitplayed deviously hideous larry drake fend life try find way hide husband corpse decide use ax santa killer miss several chance chop woman head frame killer husband murder santa killer lock closet pursue woman daughter try desperate free save childbr br episode tale crypt recycle tire material involve old santa kill theme also add oftusedadd nauseumwomanmurders-her-husband-for-a-man-she's-been-cheating-with routine. essentially trainor try find way avoid catch dead body kill also keep safe distance maniac. there's nothing refresh new plot pretty much go motions. one show's highlights.\n",
            "Actual Labeled Sentiment: 0\n",
            "Predicted Sentiment: 0\n",
            "\n",
            "Review:-\n",
            "turn woman romancesoapsuspense film hop wassimply tense thriller yes final 20 minute suspenseful much previous 75 border plain tediousbr br ruter hauer wa little subdue play normal intense character natasha richardson sport somewhat dumb look time character wa unappealingbr br story soso bad im make sure isnt anything id watch again, back vhs describe movie wa misleading.\n",
            "Actual Labeled Sentiment: 0\n",
            "Predicted Sentiment: 0\n",
            "\n",
            "Review:-\n",
            "wasnt impress film find quite tiresome plain plot line wa interest kid create college enrol hundred kid laugh far joke werent really funny didnt bust gut scene character werent intrigue didnt feel even dawky fat kid glass try enter frat group wa good first watch didnt blow away one would recommend compare film genre ie american pie cruel film wa laughaplenty accept fail raise smile\n",
            "Actual Labeled Sentiment: 0\n",
            "Predicted Sentiment: 0\n",
            "\n",
            "Review:-\n",
            "seem shame greta garbo end illustrious career age 36 ridiculous mistakenidentity marital romp come success first romantic comedy ernst lubitsch masterful ninotchka 1939 wa ideally cast austere russian envoy garbo reunite lead man melvyn douglas sitcomlevel story ha play karin borg plainjane ski instructor impulsively marry publish executive larry blake become smite make clear work priority karin inadvertently decide masquerade highliving twin sister katherine test husband fidelity back manhattanbr br surprise infamous 1941 misfire wa direct george cukor lead garbo greatest dramatic performance 1937s camille unflattering vehicle one could imagine screen legend someone carole lombard natural sense ease mischief could get away shenanigan present by-the-numbers script s.n. behrman, salka viertel george oppenheimer. mgm's intent behind comedy wa contemporize americanize garbo's image wartime audience studio head felt interest tragic period character favor thirties.<br /><br />however, garbo appear ill-at-ease mostly bogus party girl katherine especially compare expert farceurs like douglas constance bennett romantic rival griselda. photograph unflatteringly joseph ruttenberg, garbo look tire many scene downright hideous tease hairdo \"chica-choca\" dance sequence. story end conventionally addition lengthy physical sequence larry try maneuver ski series mountain cliff unfortunately remind sonny bono's death. roland young ruth gordon (in rare appearance point career) show comic support role douglas' associates. movie yet dvd, consider priority transfer represent curio garbo's otherwise legendary career. wa reportedly quite unhappy filming. see why.\n",
            "Actual Labeled Sentiment: 0\n",
            "Predicted Sentiment: 0\n",
            "\n",
            "Review:-\n",
            "wish could meet ida lupino people ask could 6 extraordinary 20th century person dinner well one person would think one great unsung unprofiled personality film industry life story would make great tele movie hey mr bogdanovich ida lupino ha drive force many fascinate noir film 40 50 remember sadden see reduce horrible part ghastly aip film late 70 wa bite big worm kitchen sink ugh contact die long part worm high sierra roadhouse extraordinary rko thriller dangerous grind ida lupino wa often producer lead actress later husband howard duff produce many timeless noir drama still engross today one jennifer think last film monogram picture copyright monogram change company name formally ally artist 1953 jennifer ha company name open credit superior haunt house thriller equally scary innocent haunt make 8 year later really chill creepy, tiny film exactly sort really good film ida lupino make wa responsible for. try find it...you always remember feel, much admiration great almost forget actress/producer.\n",
            "Actual Labeled Sentiment: 1\n",
            "Predicted Sentiment: 1\n",
            "\n",
            "Review:-\n",
            "tyra  rest model world need know real woman like daughter dont care see ridiculous model sell something weird location much makeup  much skin necessary sex doe always sell sell woman go horse stomp runway walk look unnatural people come shape  size  need show daughter ha 36 inseam tall  slender  size 5 average size 12 would like see picture something would look size 2 wear fit way buy magazine anymore one side matter would really love show consider woman size thank\n",
            "Actual Labeled Sentiment: 0\n",
            "Predicted Sentiment: 0\n",
            "\n"
          ],
          "name": "stdout"
        }
      ]
    },
    {
      "metadata": {
        "id": "2G1bgAkptJLC",
        "colab_type": "code",
        "outputId": "26c8e086-85ab-4650-ae98-ad08121c129c",
        "colab": {
          "base_uri": "https://localhost:8080/",
          "height": 34
        }
      },
      "cell_type": "code",
      "source": [
        "svm.score(test_features,test_sentiments)"
      ],
      "execution_count": 22,
      "outputs": [
        {
          "output_type": "execute_result",
          "data": {
            "text/plain": [
              "0.8951333333333333"
            ]
          },
          "metadata": {
            "tags": []
          },
          "execution_count": 22
        }
      ]
    },
    {
      "metadata": {
        "id": "rg-5Jfi9tJLG",
        "colab_type": "code",
        "outputId": "28572d61-490e-4c41-e7af-5ba66393827d",
        "colab": {
          "base_uri": "https://localhost:8080/",
          "height": 34
        }
      },
      "cell_type": "code",
      "source": [
        "predicted_sentiments = svm.predict(test_features) \n",
        "predicted_sentiments"
      ],
      "execution_count": 23,
      "outputs": [
        {
          "output_type": "execute_result",
          "data": {
            "text/plain": [
              "array([1, 1, 0, ..., 1, 1, 0])"
            ]
          },
          "metadata": {
            "tags": []
          },
          "execution_count": 23
        }
      ]
    },
    {
      "metadata": {
        "id": "Q9xlnc7FtJLK",
        "colab_type": "code",
        "colab": {}
      },
      "cell_type": "code",
      "source": [
        "from sklearn import metrics\n",
        "\n",
        "def display_evaluation_metrics(true_labels, predicted_labels, positive_class=1):\n",
        "    \n",
        "    print ('Accuracy:', np.round(\n",
        "                        metrics.accuracy_score(true_labels, \n",
        "                                               predicted_labels),\n",
        "                        2))\n",
        "    print ('Precision:', np.round(\n",
        "                        metrics.precision_score(true_labels, \n",
        "                                               predicted_labels,\n",
        "                                               pos_label=positive_class,\n",
        "                                               average='binary'),\n",
        "                        2))\n",
        "    print ('Recall:', np.round(\n",
        "                        metrics.recall_score(true_labels, \n",
        "                                               predicted_labels,\n",
        "                                               pos_label=positive_class,\n",
        "                                               average='binary'),\n",
        "                        2))\n",
        "    print ('F1 Score:', np.round(\n",
        "                        metrics.f1_score(true_labels, \n",
        "                                               predicted_labels,\n",
        "                                               pos_label=positive_class,\n",
        "                                               average='binary'),\n",
        "                        2))\n",
        "                        \n",
        "def display_confusion_matrix(true_labels, predicted_labels, classes=[1,0]):\n",
        "    \n",
        "    cm = metrics.confusion_matrix(y_true=true_labels, \n",
        "                                  y_pred=predicted_labels, \n",
        "                                  labels=classes)\n",
        "    cm_frame = pd.DataFrame(data=cm, \n",
        "                            columns=pd.MultiIndex(levels=[['Predicted:'], classes], \n",
        "                                                  labels=[[0,0],[0,1]]), \n",
        "                            index=pd.MultiIndex(levels=[['Actual:'], classes], \n",
        "                                                labels=[[0,0],[0,1]])) \n",
        "    print( cm_frame)                            \n",
        "\n",
        "\n",
        "def display_classification_report(true_labels, predicted_labels, classes=[1,0]):\n",
        "\n",
        "    report = metrics.classification_report(y_true=true_labels, \n",
        "                                           y_pred=predicted_labels, \n",
        "                                           labels=classes) \n",
        "    print (report)"
      ],
      "execution_count": 0,
      "outputs": []
    },
    {
      "metadata": {
        "id": "TLo5gStutJLN",
        "colab_type": "code",
        "outputId": "20e488a4-2178-430f-e610-87afa4647efd",
        "colab": {
          "base_uri": "https://localhost:8080/",
          "height": 87
        }
      },
      "cell_type": "code",
      "source": [
        "display_evaluation_metrics(true_labels=test_sentiments,\n",
        "                           predicted_labels=predicted_sentiments,\n",
        "                           positive_class=1)  \n",
        "                           "
      ],
      "execution_count": 25,
      "outputs": [
        {
          "output_type": "stream",
          "text": [
            "Accuracy: 0.9\n",
            "Precision: 0.88\n",
            "Recall: 0.91\n",
            "F1 Score: 0.9\n"
          ],
          "name": "stdout"
        }
      ]
    },
    {
      "metadata": {
        "id": "yGOOYyU-tJLR",
        "colab_type": "code",
        "outputId": "2e30d37a-1367-4b9e-fc4d-9800f4793990",
        "colab": {
          "base_uri": "https://localhost:8080/",
          "height": 87
        }
      },
      "cell_type": "code",
      "source": [
        "display_confusion_matrix(true_labels=test_sentiments,\n",
        "                         predicted_labels=predicted_sentiments,\n",
        "                         classes=[1, 0])\n",
        "                         \n"
      ],
      "execution_count": 26,
      "outputs": [
        {
          "output_type": "stream",
          "text": [
            "          Predicted:      \n",
            "                   1     0\n",
            "Actual: 1       6828   644\n",
            "        0        929  6599\n"
          ],
          "name": "stdout"
        }
      ]
    },
    {
      "metadata": {
        "id": "IZ0434DUtJLX",
        "colab_type": "code",
        "outputId": "14fa6c75-9a51-47b8-fddf-2cd645253ae9",
        "colab": {
          "base_uri": "https://localhost:8080/",
          "height": 175
        }
      },
      "cell_type": "code",
      "source": [
        "display_classification_report(true_labels=test_sentiments,\n",
        "                              predicted_labels=predicted_sentiments,\n",
        "                              classes=[1, 0]) "
      ],
      "execution_count": 27,
      "outputs": [
        {
          "output_type": "stream",
          "text": [
            "              precision    recall  f1-score   support\n",
            "\n",
            "           1       0.88      0.91      0.90      7472\n",
            "           0       0.91      0.88      0.89      7528\n",
            "\n",
            "   micro avg       0.90      0.90      0.90     15000\n",
            "   macro avg       0.90      0.90      0.90     15000\n",
            "weighted avg       0.90      0.90      0.90     15000\n",
            "\n"
          ],
          "name": "stdout"
        }
      ]
    },
    {
      "metadata": {
        "id": "SwTuy-EntJLc",
        "colab_type": "code",
        "colab": {}
      },
      "cell_type": "code",
      "source": [
        "\n",
        "import pickle\n",
        "svm_pkl_filename='svm_classifier.pkl'\n",
        "svm_pkl=open(svm_pkl_filename,'wb')\n",
        "pickle.dump(svm,svm_pkl)\n",
        "svm_pkl.close()\n"
      ],
      "execution_count": 0,
      "outputs": []
    },
    {
      "metadata": {
        "id": "qu5EV0f-tJLf",
        "colab_type": "code",
        "colab": {}
      },
      "cell_type": "code",
      "source": [
        ""
      ],
      "execution_count": 0,
      "outputs": []
    },
    {
      "metadata": {
        "id": "WdlJGbU2tJLl",
        "colab_type": "code",
        "colab": {}
      },
      "cell_type": "code",
      "source": [
        "with open('vectorizer.pkl','wb') as f:\n",
        "    pickle.dump(vectorizer,f)"
      ],
      "execution_count": 0,
      "outputs": []
    },
    {
      "metadata": {
        "id": "pd1N1uF3tJLt",
        "colab_type": "code",
        "colab": {
          "base_uri": "https://localhost:8080/",
          "height": 122
        },
        "outputId": "7c539267-c98e-4a44-d605-168e60749404"
      },
      "cell_type": "code",
      "source": [
        "#load the model\n",
        "svm_pkl=open('svm_classifier.pkl','rb')\n",
        "svm=pickle.load(svm_pkl)\n",
        "print(\"Loaded the model \", svm)\n",
        "\n"
      ],
      "execution_count": 30,
      "outputs": [
        {
          "output_type": "stream",
          "text": [
            "Loaded the model  SGDClassifier(alpha=0.0001, average=False, class_weight=None,\n",
            "       early_stopping=False, epsilon=0.1, eta0=0.0, fit_intercept=True,\n",
            "       l1_ratio=0.15, learning_rate='optimal', loss='hinge', max_iter=None,\n",
            "       n_iter=500, n_iter_no_change=5, n_jobs=None, penalty='l2',\n",
            "       power_t=0.5, random_state=None, shuffle=True, tol=None,\n",
            "       validation_fraction=0.1, verbose=0, warm_start=False)\n"
          ],
          "name": "stdout"
        }
      ]
    },
    {
      "metadata": {
        "id": "CdIKX9MtA7io",
        "colab_type": "code",
        "colab": {
          "base_uri": "https://localhost:8080/",
          "height": 140
        },
        "outputId": "45a5bff4-e377-4437-9624-0d5d8aeaecc0"
      },
      "cell_type": "code",
      "source": [
        "\n",
        "vectorizer_pkl=open('vectorizer.pkl','rb')\n",
        "vectorizer=pickle.load(vectorizer_pkl)\n",
        "print(\"Loaded the model \", vectorizer)"
      ],
      "execution_count": 31,
      "outputs": [
        {
          "output_type": "stream",
          "text": [
            "Loaded the model  TfidfVectorizer(analyzer='word', binary=False, decode_error='strict',\n",
            "        dtype=<class 'numpy.float64'>, encoding='utf-8', input='content',\n",
            "        lowercase=True, max_df=1.0, max_features=None, min_df=0.0,\n",
            "        ngram_range=(1, 1), norm='l2', preprocessor=None, smooth_idf=True,\n",
            "        stop_words=None, strip_accents=None, sublinear_tf=False,\n",
            "        token_pattern='(?u)\\\\b\\\\w\\\\w+\\\\b', tokenizer=None, use_idf=True,\n",
            "        vocabulary=None)\n"
          ],
          "name": "stdout"
        }
      ]
    },
    {
      "metadata": {
        "id": "z7lUjd3-A-96",
        "colab_type": "code",
        "colab": {
          "base_uri": "https://localhost:8080/",
          "height": 34
        },
        "outputId": "f86d8005-b0e3-4f19-8ce6-45e7e8623791"
      },
      "cell_type": "code",
      "source": [
        "t=[\"i am bad\"]\n",
        "svm.predict(vectorizer.transform(t))"
      ],
      "execution_count": 32,
      "outputs": [
        {
          "output_type": "execute_result",
          "data": {
            "text/plain": [
              "array([0])"
            ]
          },
          "metadata": {
            "tags": []
          },
          "execution_count": 32
        }
      ]
    },
    {
      "metadata": {
        "id": "IYR4ImUG2m4D",
        "colab_type": "code",
        "outputId": "fcc68a9c-b053-4436-f2a6-6e937ac5acd2",
        "colab": {
          "base_uri": "https://localhost:8080/",
          "height": 281
        }
      },
      "cell_type": "code",
      "source": [
        "!pip install Scikit-plot"
      ],
      "execution_count": 33,
      "outputs": [
        {
          "output_type": "stream",
          "text": [
            "Collecting Scikit-plot\n",
            "  Downloading https://files.pythonhosted.org/packages/7c/47/32520e259340c140a4ad27c1b97050dd3254fdc517b1d59974d47037510e/scikit_plot-0.3.7-py3-none-any.whl\n",
            "Requirement already satisfied: scipy>=0.9 in /usr/local/lib/python3.6/dist-packages (from Scikit-plot) (1.2.1)\n",
            "Requirement already satisfied: joblib>=0.10 in /usr/local/lib/python3.6/dist-packages (from Scikit-plot) (0.12.5)\n",
            "Requirement already satisfied: matplotlib>=1.4.0 in /usr/local/lib/python3.6/dist-packages (from Scikit-plot) (3.0.3)\n",
            "Requirement already satisfied: scikit-learn>=0.18 in /usr/local/lib/python3.6/dist-packages (from Scikit-plot) (0.20.3)\n",
            "Requirement already satisfied: numpy>=1.8.2 in /usr/local/lib/python3.6/dist-packages (from scipy>=0.9->Scikit-plot) (1.16.2)\n",
            "Requirement already satisfied: python-dateutil>=2.1 in /usr/local/lib/python3.6/dist-packages (from matplotlib>=1.4.0->Scikit-plot) (2.5.3)\n",
            "Requirement already satisfied: kiwisolver>=1.0.1 in /usr/local/lib/python3.6/dist-packages (from matplotlib>=1.4.0->Scikit-plot) (1.0.1)\n",
            "Requirement already satisfied: cycler>=0.10 in /usr/local/lib/python3.6/dist-packages (from matplotlib>=1.4.0->Scikit-plot) (0.10.0)\n",
            "Requirement already satisfied: pyparsing!=2.0.4,!=2.1.2,!=2.1.6,>=2.0.1 in /usr/local/lib/python3.6/dist-packages (from matplotlib>=1.4.0->Scikit-plot) (2.4.0)\n",
            "Requirement already satisfied: six>=1.5 in /usr/local/lib/python3.6/dist-packages (from python-dateutil>=2.1->matplotlib>=1.4.0->Scikit-plot) (1.11.0)\n",
            "Requirement already satisfied: setuptools in /usr/local/lib/python3.6/dist-packages (from kiwisolver>=1.0.1->matplotlib>=1.4.0->Scikit-plot) (40.9.0)\n",
            "Installing collected packages: Scikit-plot\n",
            "Successfully installed Scikit-plot-0.3.7\n"
          ],
          "name": "stdout"
        }
      ]
    },
    {
      "metadata": {
        "id": "4LVH1oSHtJMI",
        "colab_type": "code",
        "outputId": "a9fe4f0b-6932-49e3-8ed4-943de4198657",
        "colab": {
          "base_uri": "https://localhost:8080/",
          "height": 313
        }
      },
      "cell_type": "code",
      "source": [
        "import scikitplot as skplt\n",
        "skplt.metrics.plot_confusion_matrix(test_sentiments,predicted_sentiments, normalize=True)"
      ],
      "execution_count": 34,
      "outputs": [
        {
          "output_type": "execute_result",
          "data": {
            "text/plain": [
              "<matplotlib.axes._subplots.AxesSubplot at 0x7fded2d95fd0>"
            ]
          },
          "metadata": {
            "tags": []
          },
          "execution_count": 34
        },
        {
          "output_type": "display_data",
          "data": {
            "image/png": "[encoded data removed]",
            "text/plain": [
              "<Figure size 432x288 with 2 Axes>"
            ]
          },
          "metadata": {
            "tags": []
          }
        }
      ]
    },
    {
      "metadata": {
        "id": "YFJfBS8htJMK",
        "colab_type": "code",
        "colab": {}
      },
      "cell_type": "code",
      "source": [
        "import matplotlib.pyplot as plt\n",
        "import seaborn as sns"
      ],
      "execution_count": 0,
      "outputs": []
    },
    {
      "metadata": {
        "id": "cpl7kwyp3oda",
        "colab_type": "code",
        "outputId": "cdd733d1-87ae-41cd-bb6b-a050288887b3",
        "colab": {
          "base_uri": "https://localhost:8080/",
          "height": 70
        }
      },
      "cell_type": "code",
      "source": [
        "df['sentiment'].value_counts()"
      ],
      "execution_count": 36,
      "outputs": [
        {
          "output_type": "execute_result",
          "data": {
            "text/plain": [
              "1    25000\n",
              "0    25000\n",
              "Name: sentiment, dtype: int64"
            ]
          },
          "metadata": {
            "tags": []
          },
          "execution_count": 36
        }
      ]
    },
    {
      "metadata": {
        "id": "W-FBb8CUtJMQ",
        "colab_type": "code",
        "outputId": "0df6531c-beb5-499c-89b9-1052dc4837ad",
        "colab": {
          "base_uri": "https://localhost:8080/",
          "height": 431
        }
      },
      "cell_type": "code",
      "source": [
        "sns.countplot(data=df, x = 'sentiment', label='Count')\n",
        "\n",
        "p, n = df['sentiment'].value_counts()\n",
        "print('Count of Positive sentiment ',p)\n",
        "print('Count of negative sentimet ',n)\n",
        "\n"
      ],
      "execution_count": 37,
      "outputs": [
        {
          "output_type": "stream",
          "text": [
            "Count of Positive sentiment  25000\n",
            "Count of negative sentimet  25000\n"
          ],
          "name": "stdout"
        },
        {
          "output_type": "stream",
          "text": [
            "/usr/local/lib/python3.6/dist-packages/seaborn/categorical.py:1428: FutureWarning: remove_na is deprecated and is a private function. Do not use.\n",
            "  stat_data = remove_na(group_data)\n"
          ],
          "name": "stderr"
        },
        {
          "output_type": "display_data",
          "data": {
            "image/png": "[encoded data removed]",
            "text/plain": [
              "<Figure size 576x396 with 1 Axes>"
            ]
          },
          "metadata": {
            "tags": []
          }
        }
      ]
    },
    {
      "metadata": {
        "id": "rKWLaozv4CMg",
        "colab_type": "code",
        "colab": {}
      },
      "cell_type": "code",
      "source": [
        ""
      ],
      "execution_count": 0,
      "outputs": []
    },
    {
      "metadata": {
        "id": "rBsXOFC34PIe",
        "colab_type": "code",
        "colab": {}
      },
      "cell_type": "code",
      "source": [
        ""
      ],
      "execution_count": 0,
      "outputs": []
    }
  ]
}