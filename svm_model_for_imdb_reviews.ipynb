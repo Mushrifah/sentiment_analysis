{
  "nbformat": 4,
  "nbformat_minor": 0,
  "metadata": {
    "colab": {
      "name": "svm model for imdb reviews.ipynb",
      "version": "0.3.2",
      "provenance": [],
      "include_colab_link": true
    },
    "language_info": {
      "codemirror_mode": {
        "name": "ipython",
        "version": 3
      },
      "file_extension": ".py",
      "mimetype": "text/x-python",
      "name": "python",
      "nbconvert_exporter": "python",
      "pygments_lexer": "ipython3",
      "version": "3.6.4"
    },
    "kernelspec": {
      "name": "python3",
      "display_name": "Python 3"
    },
    "accelerator": "GPU"
  },
  "cells": [
    {
      "cell_type": "markdown",
      "metadata": {
        "id": "view-in-github",
        "colab_type": "text"
      },
      "source": [
        "<a href=\"https://colab.research.google.com/github/Mushrifah/sentiment_analysis/blob/master/svm_model_for_imdb_reviews.ipynb\" target=\"_parent\"><img src=\"https://colab.research.google.com/assets/colab-badge.svg\" alt=\"Open In Colab\"/></a>"
      ]
    },
    {
      "metadata": {
        "id": "BZgta7eBtMrn",
        "colab_type": "code",
        "outputId": "afe08b5f-2ba1-4d9a-cb79-9043aa6fe2ee",
        "colab": {
          "base_uri": "https://localhost:8080/",
          "height": 52
        }
      },
      "cell_type": "code",
      "source": [
        "!pip install -U -q PyDrive\n",
        "from pydrive.auth import GoogleAuth\n",
        "from pydrive.drive import GoogleDrive\n",
        "from google.colab import auth\n",
        "from oauth2client.client import GoogleCredentials\n",
        "import io\n",
        "import zipfile\n",
        "# Authenticate and create the PyDrive client.\n",
        "# This only needs to be done once per notebook.\n",
        "auth.authenticate_user()\n",
        "gauth = GoogleAuth()\n",
        "gauth.credentials = GoogleCredentials.get_application_default()\n",
        "drive = GoogleDrive(gauth)\n",
        "\n",
        "# Download a file based on its file ID.\n",
        "#https://drive.google.com/open?id=1TgsnApIgUGzC1pd9RYkCFoSP0yFEuXVJ\n",
        "\n",
        "file_id = '1TgsnApIgUGzC1pd9RYkCFoSP0yFEuXVJ' #-- Updated File ID for my zip\n",
        "downloaded = drive.CreateFile({'id': file_id})\n",
        "downloaded.GetContentFile('movie_reviews.csv')"
      ],
      "execution_count": 1,
      "outputs": [
        {
          "output_type": "stream",
          "text": [
            "\u001b[?25l\r\u001b[K    1% |▎                               | 10kB 27.4MB/s eta 0:00:01\r\u001b[K    2% |▋                               | 20kB 2.1MB/s eta 0:00:01\r\u001b[K    3% |█                               | 30kB 3.1MB/s eta 0:00:01\r\u001b[K    4% |█▎                              | 40kB 2.0MB/s eta 0:00:01\r\u001b[K    5% |█▋                              | 51kB 2.4MB/s eta 0:00:01\r\u001b[K    6% |██                              | 61kB 2.9MB/s eta 0:00:01\r\u001b[K    7% |██▎                             | 71kB 3.3MB/s eta 0:00:01\r\u001b[K    8% |██▋                             | 81kB 3.8MB/s eta 0:00:01\r\u001b[K    9% |███                             | 92kB 4.2MB/s eta 0:00:01\r\u001b[K    10% |███▎                            | 102kB 3.3MB/s eta 0:00:01\r\u001b[K    11% |███▋                            | 112kB 3.3MB/s eta 0:00:01\r\u001b[K    12% |████                            | 122kB 4.6MB/s eta 0:00:01\r\u001b[K    13% |████▎                           | 133kB 4.6MB/s eta 0:00:01\r\u001b[K    14% |████▋                           | 143kB 9.1MB/s eta 0:00:01\r\u001b[K    15% |█████                           | 153kB 9.1MB/s eta 0:00:01\r\u001b[K    16% |█████▎                          | 163kB 9.1MB/s eta 0:00:01\r\u001b[K    17% |█████▋                          | 174kB 9.1MB/s eta 0:00:01\r\u001b[K    18% |██████                          | 184kB 9.2MB/s eta 0:00:01\r\u001b[K    19% |██████▎                         | 194kB 9.2MB/s eta 0:00:01\r\u001b[K    20% |██████▋                         | 204kB 54.0MB/s eta 0:00:01\r\u001b[K    21% |███████                         | 215kB 10.1MB/s eta 0:00:01\r\u001b[K    22% |███████▎                        | 225kB 10.1MB/s eta 0:00:01\r\u001b[K    23% |███████▋                        | 235kB 10.3MB/s eta 0:00:01\r\u001b[K    24% |████████                        | 245kB 10.2MB/s eta 0:00:01\r\u001b[K    25% |████████▎                       | 256kB 10.2MB/s eta 0:00:01\r\u001b[K    26% |████████▋                       | 266kB 10.0MB/s eta 0:00:01\r\u001b[K    27% |█████████                       | 276kB 10.0MB/s eta 0:00:01\r\u001b[K    29% |█████████▎                      | 286kB 10.0MB/s eta 0:00:01\r\u001b[K    30% |█████████▋                      | 296kB 10.0MB/s eta 0:00:01\r\u001b[K    31% |██████████                      | 307kB 10.3MB/s eta 0:00:01\r\u001b[K    32% |██████████▎                     | 317kB 61.3MB/s eta 0:00:01\r\u001b[K    33% |██████████▋                     | 327kB 62.2MB/s eta 0:00:01\r\u001b[K    34% |███████████                     | 337kB 63.1MB/s eta 0:00:01\r\u001b[K    35% |███████████▎                    | 348kB 57.9MB/s eta 0:00:01\r\u001b[K    36% |███████████▋                    | 358kB 57.8MB/s eta 0:00:01\r\u001b[K    37% |████████████                    | 368kB 67.6MB/s eta 0:00:01\r\u001b[K    38% |████████████▎                   | 378kB 68.6MB/s eta 0:00:01\r\u001b[K    39% |████████████▋                   | 389kB 70.0MB/s eta 0:00:01\r\u001b[K    40% |█████████████                   | 399kB 11.2MB/s eta 0:00:01\r\u001b[K    41% |█████████████▎                  | 409kB 11.1MB/s eta 0:00:01\r\u001b[K    42% |█████████████▋                  | 419kB 11.1MB/s eta 0:00:01\r\u001b[K    43% |██████████████                  | 430kB 11.1MB/s eta 0:00:01\r\u001b[K    44% |██████████████▎                 | 440kB 11.0MB/s eta 0:00:01\r\u001b[K    45% |██████████████▋                 | 450kB 11.1MB/s eta 0:00:01\r\u001b[K    46% |███████████████                 | 460kB 11.1MB/s eta 0:00:01\r\u001b[K    47% |███████████████▎                | 471kB 11.1MB/s eta 0:00:01\r\u001b[K    48% |███████████████▋                | 481kB 11.1MB/s eta 0:00:01\r\u001b[K    49% |████████████████                | 491kB 11.1MB/s eta 0:00:01\r\u001b[K    50% |████████████████▎               | 501kB 66.0MB/s eta 0:00:01\r\u001b[K    51% |████████████████▋               | 512kB 64.2MB/s eta 0:00:01\r\u001b[K    52% |█████████████████               | 522kB 65.3MB/s eta 0:00:01\r\u001b[K    53% |█████████████████▎              | 532kB 67.6MB/s eta 0:00:01\r\u001b[K    54% |█████████████████▋              | 542kB 67.8MB/s eta 0:00:01\r\u001b[K    55% |██████████████████              | 552kB 78.6MB/s eta 0:00:01\r\u001b[K    57% |██████████████████▎             | 563kB 81.9MB/s eta 0:00:01\r\u001b[K    58% |██████████████████▋             | 573kB 81.0MB/s eta 0:00:01\r\u001b[K    59% |███████████████████             | 583kB 80.6MB/s eta 0:00:01\r\u001b[K    60% |███████████████████▎            | 593kB 81.7MB/s eta 0:00:01\r\u001b[K    61% |███████████████████▋            | 604kB 81.3MB/s eta 0:00:01\r\u001b[K    62% |████████████████████            | 614kB 91.0MB/s eta 0:00:01\r\u001b[K    63% |████████████████████▎           | 624kB 92.5MB/s eta 0:00:01\r\u001b[K    64% |████████████████████▋           | 634kB 93.3MB/s eta 0:00:01\r\u001b[K    65% |█████████████████████           | 645kB 95.5MB/s eta 0:00:01\r\u001b[K    66% |█████████████████████▎          | 655kB 93.1MB/s eta 0:00:01\r\u001b[K    67% |█████████████████████▋          | 665kB 66.5MB/s eta 0:00:01\r\u001b[K    68% |██████████████████████          | 675kB 13.2MB/s eta 0:00:01\r\u001b[K    69% |██████████████████████▎         | 686kB 13.1MB/s eta 0:00:01\r\u001b[K    70% |██████████████████████▋         | 696kB 13.0MB/s eta 0:00:01\r\u001b[K    71% |███████████████████████         | 706kB 12.9MB/s eta 0:00:01\r\u001b[K    72% |███████████████████████▎        | 716kB 12.9MB/s eta 0:00:01\r\u001b[K    73% |███████████████████████▋        | 727kB 12.9MB/s eta 0:00:01\r\u001b[K    74% |████████████████████████        | 737kB 12.8MB/s eta 0:00:01\r\u001b[K    75% |████████████████████████▎       | 747kB 12.8MB/s eta 0:00:01\r\u001b[K    76% |████████████████████████▋       | 757kB 12.9MB/s eta 0:00:01\r\u001b[K    77% |████████████████████████▉       | 768kB 13.6MB/s eta 0:00:01\r\u001b[K    78% |█████████████████████████▏      | 778kB 78.6MB/s eta 0:00:01\r\u001b[K    79% |█████████████████████████▌      | 788kB 82.2MB/s eta 0:00:01\r\u001b[K    80% |█████████████████████████▉      | 798kB 89.1MB/s eta 0:00:01\r\u001b[K    81% |██████████████████████████▏     | 808kB 90.7MB/s eta 0:00:01\r\u001b[K    82% |██████████████████████████▌     | 819kB 92.4MB/s eta 0:00:01\r\u001b[K    83% |██████████████████████████▉     | 829kB 94.3MB/s eta 0:00:01\r\u001b[K    85% |███████████████████████████▏    | 839kB 95.2MB/s eta 0:00:01\r\u001b[K    86% |███████████████████████████▌    | 849kB 93.6MB/s eta 0:00:01\r\u001b[K    87% |███████████████████████████▉    | 860kB 79.7MB/s eta 0:00:01\r\u001b[K    88% |████████████████████████████▏   | 870kB 77.2MB/s eta 0:00:01\r\u001b[K    89% |████████████████████████████▌   | 880kB 77.3MB/s eta 0:00:01\r\u001b[K    90% |████████████████████████████▉   | 890kB 77.2MB/s eta 0:00:01\r\u001b[K    91% |█████████████████████████████▏  | 901kB 77.0MB/s eta 0:00:01\r\u001b[K    92% |█████████████████████████████▌  | 911kB 77.8MB/s eta 0:00:01\r\u001b[K    93% |█████████████████████████████▉  | 921kB 78.2MB/s eta 0:00:01\r\u001b[K    94% |██████████████████████████████▏ | 931kB 78.4MB/s eta 0:00:01\r\u001b[K    95% |██████████████████████████████▌ | 942kB 78.7MB/s eta 0:00:01\r\u001b[K    96% |██████████████████████████████▉ | 952kB 79.4MB/s eta 0:00:01\r\u001b[K    97% |███████████████████████████████▏| 962kB 94.1MB/s eta 0:00:01\r\u001b[K    98% |███████████████████████████████▌| 972kB 94.0MB/s eta 0:00:01\r\u001b[K    99% |███████████████████████████████▉| 983kB 91.1MB/s eta 0:00:01\r\u001b[K    100% |████████████████████████████████| 993kB 27.9MB/s \n",
            "\u001b[?25h  Building wheel for PyDrive (setup.py) ... \u001b[?25ldone\n",
            "\u001b[?25h"
          ],
          "name": "stdout"
        }
      ]
    },
    {
      "metadata": {
        "id": "_AzpM1yNtJGw",
        "colab_type": "code",
        "outputId": "e431154e-2341-45db-8eaf-911d9089305e",
        "colab": {
          "base_uri": "https://localhost:8080/",
          "height": 195
        }
      },
      "cell_type": "code",
      "source": [
        "import pandas as pd\n",
        "\n",
        "df=pd.read_csv(\"movie_reviews.csv\",encoding=\"utf8\")\n",
        "df.head()"
      ],
      "execution_count": 2,
      "outputs": [
        {
          "output_type": "execute_result",
          "data": {
            "text/html": [
              "<div>\n",
              "<style scoped>\n",
              "    .dataframe tbody tr th:only-of-type {\n",
              "        vertical-align: middle;\n",
              "    }\n",
              "\n",
              "    .dataframe tbody tr th {\n",
              "        vertical-align: top;\n",
              "    }\n",
              "\n",
              "    .dataframe thead th {\n",
              "        text-align: right;\n",
              "    }\n",
              "</style>\n",
              "<table border=\"1\" class=\"dataframe\">\n",
              "  <thead>\n",
              "    <tr style=\"text-align: right;\">\n",
              "      <th></th>\n",
              "      <th>review</th>\n",
              "      <th>sentiment</th>\n",
              "    </tr>\n",
              "  </thead>\n",
              "  <tbody>\n",
              "    <tr>\n",
              "      <th>0</th>\n",
              "      <td>I have done a lot of international travel, bot...</td>\n",
              "      <td>positive</td>\n",
              "    </tr>\n",
              "    <tr>\n",
              "      <th>1</th>\n",
              "      <td>One of the most frightening game experiences e...</td>\n",
              "      <td>positive</td>\n",
              "    </tr>\n",
              "    <tr>\n",
              "      <th>2</th>\n",
              "      <td>I was amazingly impressed by this movie. It co...</td>\n",
              "      <td>positive</td>\n",
              "    </tr>\n",
              "    <tr>\n",
              "      <th>3</th>\n",
              "      <td>This film is stale, and misses the mark. It is...</td>\n",
              "      <td>negative</td>\n",
              "    </tr>\n",
              "    <tr>\n",
              "      <th>4</th>\n",
              "      <td>At last!! Sandra Bullock is indeed a beautiful...</td>\n",
              "      <td>positive</td>\n",
              "    </tr>\n",
              "  </tbody>\n",
              "</table>\n",
              "</div>"
            ],
            "text/plain": [
              "                                              review sentiment\n",
              "0  I have done a lot of international travel, bot...  positive\n",
              "1  One of the most frightening game experiences e...  positive\n",
              "2  I was amazingly impressed by this movie. It co...  positive\n",
              "3  This film is stale, and misses the mark. It is...  negative\n",
              "4  At last!! Sandra Bullock is indeed a beautiful...  positive"
            ]
          },
          "metadata": {
            "tags": []
          },
          "execution_count": 2
        }
      ]
    },
    {
      "metadata": {
        "id": "sYOl2zCgtJHE",
        "colab_type": "code",
        "outputId": "ab104261-c66d-49d2-a487-4f2419589fba",
        "colab": {
          "base_uri": "https://localhost:8080/",
          "height": 195
        }
      },
      "cell_type": "code",
      "source": [
        "df = df[df.sentiment != 'unsup']\n",
        "df['sentiment'] = df['sentiment'].map({'positive': 1, 'negative': 0})\n",
        "df.head()"
      ],
      "execution_count": 3,
      "outputs": [
        {
          "output_type": "execute_result",
          "data": {
            "text/html": [
              "<div>\n",
              "<style scoped>\n",
              "    .dataframe tbody tr th:only-of-type {\n",
              "        vertical-align: middle;\n",
              "    }\n",
              "\n",
              "    .dataframe tbody tr th {\n",
              "        vertical-align: top;\n",
              "    }\n",
              "\n",
              "    .dataframe thead th {\n",
              "        text-align: right;\n",
              "    }\n",
              "</style>\n",
              "<table border=\"1\" class=\"dataframe\">\n",
              "  <thead>\n",
              "    <tr style=\"text-align: right;\">\n",
              "      <th></th>\n",
              "      <th>review</th>\n",
              "      <th>sentiment</th>\n",
              "    </tr>\n",
              "  </thead>\n",
              "  <tbody>\n",
              "    <tr>\n",
              "      <th>0</th>\n",
              "      <td>I have done a lot of international travel, bot...</td>\n",
              "      <td>1</td>\n",
              "    </tr>\n",
              "    <tr>\n",
              "      <th>1</th>\n",
              "      <td>One of the most frightening game experiences e...</td>\n",
              "      <td>1</td>\n",
              "    </tr>\n",
              "    <tr>\n",
              "      <th>2</th>\n",
              "      <td>I was amazingly impressed by this movie. It co...</td>\n",
              "      <td>1</td>\n",
              "    </tr>\n",
              "    <tr>\n",
              "      <th>3</th>\n",
              "      <td>This film is stale, and misses the mark. It is...</td>\n",
              "      <td>0</td>\n",
              "    </tr>\n",
              "    <tr>\n",
              "      <th>4</th>\n",
              "      <td>At last!! Sandra Bullock is indeed a beautiful...</td>\n",
              "      <td>1</td>\n",
              "    </tr>\n",
              "  </tbody>\n",
              "</table>\n",
              "</div>"
            ],
            "text/plain": [
              "                                              review  sentiment\n",
              "0  I have done a lot of international travel, bot...          1\n",
              "1  One of the most frightening game experiences e...          1\n",
              "2  I was amazingly impressed by this movie. It co...          1\n",
              "3  This film is stale, and misses the mark. It is...          0\n",
              "4  At last!! Sandra Bullock is indeed a beautiful...          1"
            ]
          },
          "metadata": {
            "tags": []
          },
          "execution_count": 3
        }
      ]
    },
    {
      "metadata": {
        "id": "fp3K-0PxtJHN",
        "colab_type": "code",
        "outputId": "520828e2-ee33-4d01-e659-3d963e7ee5cd",
        "colab": {
          "base_uri": "https://localhost:8080/",
          "height": 87
        }
      },
      "cell_type": "code",
      "source": [
        "import re\n",
        "import nltk\n",
        "nltk.download('stopwords')\n",
        "nltk.download('wordnet')\n",
        "from nltk.stem import WordNetLemmatizer\n",
        "from nltk.corpus import stopwords\n",
        "\n",
        "stop_words = set(stopwords.words(\"english\")) \n",
        "lemmatizer = WordNetLemmatizer()\n",
        "\n",
        "\n",
        "def clean_text(text):\n",
        "    text = re.sub(r'[^\\w\\s]','',text, re.UNICODE)\n",
        "    text = text.lower()\n",
        "    text = [lemmatizer.lemmatize(token) for token in text.split(\" \")]\n",
        "    text = [lemmatizer.lemmatize(token, \"v\") for token in text]\n",
        "    text = [word for word in text if not word in stop_words]\n",
        "    text = \" \".join(text)\n",
        "    return text\n",
        "\n",
        "df['Processed_Reviews'] = df.review.apply(lambda x: clean_text(x))"
      ],
      "execution_count": 4,
      "outputs": [
        {
          "output_type": "stream",
          "text": [
            "[nltk_data] Downloading package stopwords to /root/nltk_data...\n",
            "[nltk_data]   Unzipping corpora/stopwords.zip.\n",
            "[nltk_data] Downloading package wordnet to /root/nltk_data...\n",
            "[nltk_data]   Unzipping corpora/wordnet.zip.\n"
          ],
          "name": "stdout"
        }
      ]
    },
    {
      "metadata": {
        "id": "_ijZCuN4tJHR",
        "colab_type": "code",
        "outputId": "f3a0d730-c0fd-47f8-e3a2-1a739c703b20",
        "colab": {
          "base_uri": "https://localhost:8080/",
          "height": 54
        }
      },
      "cell_type": "code",
      "source": [
        "df['Processed_Reviews'][0]"
      ],
      "execution_count": 5,
      "outputs": [
        {
          "output_type": "execute_result",
          "data": {
            "text/plain": [
              "\"lot international travel business tourist type assure best advice also oldest always drink wine country movie archangel michael come earth business wrap quickly decide hang around little tour boy doe drink wine countrybr br could man drink forever liquor love fight br br hed lief rise morning lief lie nightsbr br thing cant heaven enjoy he's here! course turn couple job tackle and, le direct wa first one, successful. final scene little schmaltzy also wonderful. jean stapleton get dance john travolta.\""
            ]
          },
          "metadata": {
            "tags": []
          },
          "execution_count": 5
        }
      ]
    },
    {
      "metadata": {
        "id": "3f1fOt5atJHZ",
        "colab_type": "code",
        "outputId": "0e1aa7a1-31cc-4907-a5f2-53e7fc40eed5",
        "colab": {
          "base_uri": "https://localhost:8080/",
          "height": 54
        }
      },
      "cell_type": "code",
      "source": [
        "df['review'][0]"
      ],
      "execution_count": 6,
      "outputs": [
        {
          "output_type": "execute_result",
          "data": {
            "text/plain": [
              "'I have done a lot of international travel, both on business and as a tourist. For both types I assure you the best advice is also the oldest: Always drink the wine of the country. In this movie the archangel Michael comes to Earth on business, wraps it up quickly and decides to hang around for a little touring. Boy! Does he \"drink the wine of the country.\"<br /><br />Could man be drunk forever with liquor, love and fights <br /><br />He\\'d lief rise up of mornings and lief lie down of nights.<br /><br />These are things you can\\'t do in Heaven so he enjoys them while he\\'s here! Of course it turns out he had a couple of other jobs to tackle and, if he is less direct about them than he was about the first one, he is just as successful. The final scene is a little schmaltzy but it is also wonderful. Jean Stapleton gets to dance with John Travolta.'"
            ]
          },
          "metadata": {
            "tags": []
          },
          "execution_count": 6
        }
      ]
    },
    {
      "metadata": {
        "id": "LFGWMUh7tJHg",
        "colab_type": "code",
        "outputId": "328589f2-f1be-4460-d39f-5a1c4b313b6e",
        "colab": {
          "base_uri": "https://localhost:8080/",
          "height": 195
        }
      },
      "cell_type": "code",
      "source": [
        "df.head()"
      ],
      "execution_count": 7,
      "outputs": [
        {
          "output_type": "execute_result",
          "data": {
            "text/html": [
              "<div>\n",
              "<style scoped>\n",
              "    .dataframe tbody tr th:only-of-type {\n",
              "        vertical-align: middle;\n",
              "    }\n",
              "\n",
              "    .dataframe tbody tr th {\n",
              "        vertical-align: top;\n",
              "    }\n",
              "\n",
              "    .dataframe thead th {\n",
              "        text-align: right;\n",
              "    }\n",
              "</style>\n",
              "<table border=\"1\" class=\"dataframe\">\n",
              "  <thead>\n",
              "    <tr style=\"text-align: right;\">\n",
              "      <th></th>\n",
              "      <th>review</th>\n",
              "      <th>sentiment</th>\n",
              "      <th>Processed_Reviews</th>\n",
              "    </tr>\n",
              "  </thead>\n",
              "  <tbody>\n",
              "    <tr>\n",
              "      <th>0</th>\n",
              "      <td>I have done a lot of international travel, bot...</td>\n",
              "      <td>1</td>\n",
              "      <td>lot international travel business tourist type...</td>\n",
              "    </tr>\n",
              "    <tr>\n",
              "      <th>1</th>\n",
              "      <td>One of the most frightening game experiences e...</td>\n",
              "      <td>1</td>\n",
              "      <td>one frighten game experience ever make keep li...</td>\n",
              "    </tr>\n",
              "    <tr>\n",
              "      <th>2</th>\n",
              "      <td>I was amazingly impressed by this movie. It co...</td>\n",
              "      <td>1</td>\n",
              "      <td>wa amazingly impress movie contain fundamental...</td>\n",
              "    </tr>\n",
              "    <tr>\n",
              "      <th>3</th>\n",
              "      <td>This film is stale, and misses the mark. It is...</td>\n",
              "      <td>0</td>\n",
              "      <td>film stale miss mark far compare 89 batman try...</td>\n",
              "    </tr>\n",
              "    <tr>\n",
              "      <th>4</th>\n",
              "      <td>At last!! Sandra Bullock is indeed a beautiful...</td>\n",
              "      <td>1</td>\n",
              "      <td>last sandra bullock indeed beautiful woman ive...</td>\n",
              "    </tr>\n",
              "  </tbody>\n",
              "</table>\n",
              "</div>"
            ],
            "text/plain": [
              "                                              review  sentiment  \\\n",
              "0  I have done a lot of international travel, bot...          1   \n",
              "1  One of the most frightening game experiences e...          1   \n",
              "2  I was amazingly impressed by this movie. It co...          1   \n",
              "3  This film is stale, and misses the mark. It is...          0   \n",
              "4  At last!! Sandra Bullock is indeed a beautiful...          1   \n",
              "\n",
              "                                   Processed_Reviews  \n",
              "0  lot international travel business tourist type...  \n",
              "1  one frighten game experience ever make keep li...  \n",
              "2  wa amazingly impress movie contain fundamental...  \n",
              "3  film stale miss mark far compare 89 batman try...  \n",
              "4  last sandra bullock indeed beautiful woman ive...  "
            ]
          },
          "metadata": {
            "tags": []
          },
          "execution_count": 7
        }
      ]
    },
    {
      "metadata": {
        "id": "BsSJjwMftJHn",
        "colab_type": "code",
        "outputId": "3b4f2a23-d7fa-44a2-ea7d-f1b423d37a40",
        "colab": {
          "base_uri": "https://localhost:8080/",
          "height": 195
        }
      },
      "cell_type": "code",
      "source": [
        "df = df.drop(['review'],axis=1)\n",
        "df.head()"
      ],
      "execution_count": 8,
      "outputs": [
        {
          "output_type": "execute_result",
          "data": {
            "text/html": [
              "<div>\n",
              "<style scoped>\n",
              "    .dataframe tbody tr th:only-of-type {\n",
              "        vertical-align: middle;\n",
              "    }\n",
              "\n",
              "    .dataframe tbody tr th {\n",
              "        vertical-align: top;\n",
              "    }\n",
              "\n",
              "    .dataframe thead th {\n",
              "        text-align: right;\n",
              "    }\n",
              "</style>\n",
              "<table border=\"1\" class=\"dataframe\">\n",
              "  <thead>\n",
              "    <tr style=\"text-align: right;\">\n",
              "      <th></th>\n",
              "      <th>sentiment</th>\n",
              "      <th>Processed_Reviews</th>\n",
              "    </tr>\n",
              "  </thead>\n",
              "  <tbody>\n",
              "    <tr>\n",
              "      <th>0</th>\n",
              "      <td>1</td>\n",
              "      <td>lot international travel business tourist type...</td>\n",
              "    </tr>\n",
              "    <tr>\n",
              "      <th>1</th>\n",
              "      <td>1</td>\n",
              "      <td>one frighten game experience ever make keep li...</td>\n",
              "    </tr>\n",
              "    <tr>\n",
              "      <th>2</th>\n",
              "      <td>1</td>\n",
              "      <td>wa amazingly impress movie contain fundamental...</td>\n",
              "    </tr>\n",
              "    <tr>\n",
              "      <th>3</th>\n",
              "      <td>0</td>\n",
              "      <td>film stale miss mark far compare 89 batman try...</td>\n",
              "    </tr>\n",
              "    <tr>\n",
              "      <th>4</th>\n",
              "      <td>1</td>\n",
              "      <td>last sandra bullock indeed beautiful woman ive...</td>\n",
              "    </tr>\n",
              "  </tbody>\n",
              "</table>\n",
              "</div>"
            ],
            "text/plain": [
              "   sentiment                                  Processed_Reviews\n",
              "0          1  lot international travel business tourist type...\n",
              "1          1  one frighten game experience ever make keep li...\n",
              "2          1  wa amazingly impress movie contain fundamental...\n",
              "3          0  film stale miss mark far compare 89 batman try...\n",
              "4          1  last sandra bullock indeed beautiful woman ive..."
            ]
          },
          "metadata": {
            "tags": []
          },
          "execution_count": 8
        }
      ]
    },
    {
      "metadata": {
        "id": "7lDr5ULFtJH9",
        "colab_type": "code",
        "colab": {}
      },
      "cell_type": "code",
      "source": [
        "trd = df[:35000]\n",
        "ted = df[35000:]"
      ],
      "execution_count": 0,
      "outputs": []
    },
    {
      "metadata": {
        "id": "q25MMjAbtJIP",
        "colab_type": "code",
        "colab": {}
      },
      "cell_type": "code",
      "source": [
        "import numpy as np\n",
        "\n",
        "train_reviews = np.array(trd['Processed_Reviews'])\n",
        "train_sentiments = np.array(trd['sentiment'])\n",
        "test_reviews = np.array(ted['Processed_Reviews'])\n",
        "test_sentiments = np.array(ted['sentiment'])"
      ],
      "execution_count": 0,
      "outputs": []
    },
    {
      "metadata": {
        "id": "tTkIdzzhtJIg",
        "colab_type": "code",
        "outputId": "830c1e7f-f617-4a93-b40f-8560ee6c35c5",
        "colab": {
          "base_uri": "https://localhost:8080/",
          "height": 318
        }
      },
      "cell_type": "code",
      "source": [
        "sample_docs = [100, 5817, 7626, 7356, 1008, 7155, 3533, 13010]\n",
        "sample_data = [(test_reviews[index],\n",
        "                test_sentiments[index])\n",
        "                  for index in sample_docs]\n",
        "\n",
        "sample_data  "
      ],
      "execution_count": 11,
      "outputs": [
        {
          "output_type": "execute_result",
          "data": {
            "text/plain": [
              "[('third entry stepford franchise apparently three madefortv obscure sequel incredibly obscure hard trace whereas 70 original well blockbuster remake nicole kidman commonly know popular havent see either early 80 revenge stepford wife mid 90 stepford husband stepford child quite charm highly entertain little film basically exact film original obviously le mysterious yet much cheesier incredibly 80 nth degree main difference like title imply liberate wife also rebellious punk teenage offspring town undergo typical highly effective stepford treatment license local men association reason scenario attempt uphold stepford mystery late film even though nobody likely watch sequel check original presumably everybody also know denouement harding family pack ready move grisly city new york small peaceful community stepford. particularly father steven excite new life already live stepford always want go back ever since first wife, new wife laura adolescent child mary david know little about, die mysterious circumstances. town almost perfect, picturesque neighbor model students, especially modern teenager face huge difficulty adjust. effort modernize place take local youth stanford tow cause confrontation eminent townsfolk, particularly member men\\'s association, put familial relationship lot stress. david meet fall love last \"normal\" girl school lois, even transform domestic dummy overnight, david convince skeptical mother investigate sinister stanford secret. first hour \"the stanford children\" slow-paced rather tame, finale trashy cheesy like vhs cover promise like late 80\\'s thriller ought be, fact. modus operandi behind stanford secret illustrate greater detail, think horror fan lover original film appreciate that. least, did. overall plot still make lot sense script chock-full irrational aspects, nonetheless engage formula undoubtedly one evoke atmosphere suspense fear. act performance far average. especially arrogant obnoxious member men\\'s association depict plausible character even teenage player tammy lauren randall batinkoff give away impressive performances. recommend without hesitation!',\n",
              "  1),\n",
              " ('film faithful book upon base judge timespanning 2007 adaptation khaled hosseinis huge 2003 seller answer rather ironically yes like many wa enthral book impressive first effort afghanamerican writerphysician obviously director marc forster stranger fiction screenwriter david benioff troy pay meticulous attention significant detail story within film 127minute run time yet seamless tapestry heartfelt event hosseinis novel often come across episodic truncate forster benioff sincerely try hard remain true full scope story within time constraint part challenge hosseini carefully use symbolic act provide literary thenandnow symmetry essentially threeact story technique come across somewhat contrive screen.<br /><br />however, filmmaker important thing right, specifically give viewer intimate look hide culture heretofore convey cnn news reports, ensure authenticity character speak dari persian dialect afghan language, capture emotional entanglement complex narrative. first part movie set 1978 afghanistan soviet invasion eventual takeover taliban. focus relationship amir, son affluent businessman name baba, devote hassan, son father\\'s servant. connect mutual love kite running, two thick thief tragic event separate irreparably. unable find courage come naturally father, amir cripple guilt rescue hassan unspeakable act perform trio local bullies. forster make especially palpable ethnic tension hazara pashtun afghanistan.<br /><br />upon 1979 invasion soviet troops, amir baba flee u.s. story pick story nine year later fremont, california, suburban enclave afghan émigrés. baba reduce work gas station operate flea market kiosk. amir meet local afghan girl marries. film\\'s least interest passage since benioff\\'s treatment give short shrift ancillary character like amir\\'s wife soraya critically, amir portray necessity reticent young man downward cast toward self-esteem. final section flash forward twelve year amir, upon publication first book, summon back taliban-dictated afghanistan rescue hassan\\'s son taliban, mean atone cowardice year earlier. true suspense fear generate portion story shock revelation old acquaintance come back haunt amir journey.<br /><br />a british actor egyptian heritage, khalid abdalla (the lead hijacker \"united 93\") ha central role amir adult, challenge role since ha convey constant sense shame diminish self-worth end. professional actor fare better - shaun toub (tony stark\\'s savior yinsen current \"iron man\") baba\\'s business partner rahim khan, hold key truth; atossa leoni quietly affect soraya; best all, iranian actor homayoun ershadi bring pride dignity baba. three young non-professionals recruit kabul\\'s school system play key child roles, quite good. zekeria ebrahimi challenge toughest part young amir, ali danish bakhtyari poignant hassan\\'s nearly catatonic son sohrab. sad-eyed, moon-faced ahmad khan mahmoodzada break heart young hassan, especially devastate pomegranate-throwing scene. fair say performance par young enzo staiola\\'s vittorio de sica\\'s classic \"bicycle thieves\".<br /><br />the technical aspect well done, particular, roberto schaefer\\'s clean cinematography (western china convincingly substitute afghanistan), alberto iglesias\\' evocative score, even cgi effect showcasing kite turbulent flight. 2008 dvd ha solid set extra begin insightful commentary forster, hosseini, benioff, although dialogue seem rather forced. two featurettes include - first 14-minute \"words kite runner\", focus hosseini\\'s connection story development novel, second 25-minute \"images kite runner\", standard behind-the-scenes look production. round extra original theatrical trailer, previews, psa hosseini help afghan current time need.',\n",
              "  1),\n",
              " (\"perfect murder foil wifeplayed mary ellen trainor wife director robert zemeckis helm episode murder husband poker ha misfortune receive visitor move body outsidean escape insane madman dress santa claus suitplayed deviously hideous larry drake fend life try find way hide husband corpse decide use ax santa killer miss several chance chop woman head frame killer husband murder santa killer lock closet pursue woman daughter try desperate free save childbr br episode tale crypt recycle tire material involve old santa kill theme also add oftusedadd nauseumwomanmurders-her-husband-for-a-man-she's-been-cheating-with routine. essentially trainor try find way avoid catch dead body kill also keep safe distance maniac. there's nothing refresh new plot pretty much go motions. one show's highlights.\",\n",
              "  0),\n",
              " ('turn woman romancesoapsuspense film hop wassimply tense thriller yes final 20 minute suspenseful much previous 75 border plain tediousbr br ruter hauer wa little subdue play normal intense character natasha richardson sport somewhat dumb look time character wa unappealingbr br story soso bad im make sure isnt anything id watch again, back vhs describe movie wa misleading.',\n",
              "  0),\n",
              " ('wasnt impress film find quite tiresome plain plot line wa interest kid create college enrol hundred kid laugh far joke werent really funny didnt bust gut scene character werent intrigue didnt feel even dawky fat kid glass try enter frat group wa good first watch didnt blow away one would recommend compare film genre ie american pie cruel film wa laughaplenty accept fail raise smile',\n",
              "  0),\n",
              " ('seem shame greta garbo end illustrious career age 36 ridiculous mistakenidentity marital romp come success first romantic comedy ernst lubitsch masterful ninotchka 1939 wa ideally cast austere russian envoy garbo reunite lead man melvyn douglas sitcomlevel story ha play karin borg plainjane ski instructor impulsively marry publish executive larry blake become smite make clear work priority karin inadvertently decide masquerade highliving twin sister katherine test husband fidelity back manhattanbr br surprise infamous 1941 misfire wa direct george cukor lead garbo greatest dramatic performance 1937s camille unflattering vehicle one could imagine screen legend someone carole lombard natural sense ease mischief could get away shenanigan present by-the-numbers script s.n. behrman, salka viertel george oppenheimer. mgm\\'s intent behind comedy wa contemporize americanize garbo\\'s image wartime audience studio head felt interest tragic period character favor thirties.<br /><br />however, garbo appear ill-at-ease mostly bogus party girl katherine especially compare expert farceurs like douglas constance bennett romantic rival griselda. photograph unflatteringly joseph ruttenberg, garbo look tire many scene downright hideous tease hairdo \"chica-choca\" dance sequence. story end conventionally addition lengthy physical sequence larry try maneuver ski series mountain cliff unfortunately remind sonny bono\\'s death. roland young ruth gordon (in rare appearance point career) show comic support role douglas\\' associates. movie yet dvd, consider priority transfer represent curio garbo\\'s otherwise legendary career. wa reportedly quite unhappy filming. see why.',\n",
              "  0),\n",
              " ('wish could meet ida lupino people ask could 6 extraordinary 20th century person dinner well one person would think one great unsung unprofiled personality film industry life story would make great tele movie hey mr bogdanovich ida lupino ha drive force many fascinate noir film 40 50 remember sadden see reduce horrible part ghastly aip film late 70 wa bite big worm kitchen sink ugh contact die long part worm high sierra roadhouse extraordinary rko thriller dangerous grind ida lupino wa often producer lead actress later husband howard duff produce many timeless noir drama still engross today one jennifer think last film monogram picture copyright monogram change company name formally ally artist 1953 jennifer ha company name open credit superior haunt house thriller equally scary innocent haunt make 8 year later really chill creepy, tiny film exactly sort really good film ida lupino make wa responsible for. try find it...you always remember feel, much admiration great almost forget actress/producer.',\n",
              "  1),\n",
              " ('tyra  rest model world need know real woman like daughter dont care see ridiculous model sell something weird location much makeup  much skin necessary sex doe always sell sell woman go horse stomp runway walk look unnatural people come shape  size  need show daughter ha 36 inseam tall  slender  size 5 average size 12 would like see picture something would look size 2 wear fit way buy magazine anymore one side matter would really love show consider woman size thank',\n",
              "  0)]"
            ]
          },
          "metadata": {
            "tags": []
          },
          "execution_count": 11
        }
      ]
    },
    {
      "metadata": {
        "id": "reCDLC7BtJIl",
        "colab_type": "code",
        "colab": {}
      },
      "cell_type": "code",
      "source": [
        "from sklearn.feature_extraction.text import CountVectorizer, TfidfVectorizer\n",
        "\n",
        "def build_feature_matrix(documents, feature_type='frequency',\n",
        "                         ngram_range=(1, 1), min_df=0.0, max_df=1.0):\n",
        "\n",
        "    feature_type = feature_type.lower().strip()  \n",
        "    \n",
        "    if feature_type == 'binary':\n",
        "        vectorizer = CountVectorizer(binary=True, min_df=min_df,\n",
        "                                     max_df=max_df, ngram_range=ngram_range)\n",
        "    elif feature_type == 'frequency':\n",
        "        vectorizer = CountVectorizer(binary=False, min_df=min_df,\n",
        "                                     max_df=max_df, ngram_range=ngram_range)\n",
        "    elif feature_type == 'tfidf':\n",
        "        vectorizer = TfidfVectorizer(min_df=min_df, max_df=max_df, \n",
        "                                     ngram_range=ngram_range)\n",
        "    else:\n",
        "        raise Exception(\"Wrong feature type entered. Possible values: 'binary', 'frequency', 'tfidf'\")\n",
        "\n",
        "    feature_matrix = vectorizer.fit_transform(documents).astype(float)\n",
        "    \n",
        "    return vectorizer, feature_matrix"
      ],
      "execution_count": 0,
      "outputs": []
    },
    {
      "metadata": {
        "id": "fLKlUrxwtJKd",
        "colab_type": "code",
        "colab": {}
      },
      "cell_type": "code",
      "source": [
        "vectorizer=TfidfVectorizer(ngram_range=(1, 1), min_df=0.0, max_df=1.0)"
      ],
      "execution_count": 0,
      "outputs": []
    },
    {
      "metadata": {
        "id": "AckevYE4tJKo",
        "colab_type": "code",
        "colab": {}
      },
      "cell_type": "code",
      "source": [
        "vectorizer, train_features = build_feature_matrix(documents=train_reviews,\n",
        "                                                  feature_type='tfidf',\n",
        "                                                  ngram_range=(1, 1), \n",
        "                                                  min_df=0.0, max_df=1.0)                                      \n",
        "                                      "
      ],
      "execution_count": 0,
      "outputs": []
    },
    {
      "metadata": {
        "id": "dNB31iIWtJKx",
        "colab_type": "code",
        "outputId": "ee6cad1d-acad-49fd-ffc0-d017470375f4",
        "colab": {
          "base_uri": "https://localhost:8080/",
          "height": 178
        }
      },
      "cell_type": "code",
      "source": [
        "from sklearn.linear_model import SGDClassifier\n",
        "# build the model\n",
        "svm = SGDClassifier(loss='hinge', n_iter=500)\n",
        "svm.fit(train_features, train_sentiments)"
      ],
      "execution_count": 15,
      "outputs": [
        {
          "output_type": "stream",
          "text": [
            "/usr/local/lib/python3.6/dist-packages/sklearn/linear_model/stochastic_gradient.py:152: DeprecationWarning: n_iter parameter is deprecated in 0.19 and will be removed in 0.21. Use max_iter and tol instead.\n",
            "  DeprecationWarning)\n"
          ],
          "name": "stderr"
        },
        {
          "output_type": "execute_result",
          "data": {
            "text/plain": [
              "SGDClassifier(alpha=0.0001, average=False, class_weight=None,\n",
              "       early_stopping=False, epsilon=0.1, eta0=0.0, fit_intercept=True,\n",
              "       l1_ratio=0.15, learning_rate='optimal', loss='hinge', max_iter=None,\n",
              "       n_iter=500, n_iter_no_change=5, n_jobs=None, penalty='l2',\n",
              "       power_t=0.5, random_state=None, shuffle=True, tol=None,\n",
              "       validation_fraction=0.1, verbose=0, warm_start=False)"
            ]
          },
          "metadata": {
            "tags": []
          },
          "execution_count": 15
        }
      ]
    },
    {
      "metadata": {
        "id": "xOGAYjhqtJK1",
        "colab_type": "code",
        "colab": {}
      },
      "cell_type": "code",
      "source": [
        "test_features = vectorizer.transform(test_reviews) "
      ],
      "execution_count": 0,
      "outputs": []
    },
    {
      "metadata": {
        "id": "RneqU4c5tJK5",
        "colab_type": "code",
        "outputId": "f3a4827c-d984-4058-8dc4-0085703890a0",
        "colab": {
          "base_uri": "https://localhost:8080/",
          "height": 741
        }
      },
      "cell_type": "code",
      "source": [
        "for doc_index in sample_docs:\n",
        "    print ('Review:-')\n",
        "    print (test_reviews[doc_index])\n",
        "    print ('Actual Labeled Sentiment:', test_sentiments[doc_index])\n",
        "    doc_features = test_features[doc_index]\n",
        "    predicted_sentiment = svm.predict(doc_features)[0]\n",
        "    print ('Predicted Sentiment:', predicted_sentiment)\n",
        "    print(\"\")"
      ],
      "execution_count": 17,
      "outputs": [
        {
          "output_type": "stream",
          "text": [
            "Review:-\n",
            "third entry stepford franchise apparently three madefortv obscure sequel incredibly obscure hard trace whereas 70 original well blockbuster remake nicole kidman commonly know popular havent see either early 80 revenge stepford wife mid 90 stepford husband stepford child quite charm highly entertain little film basically exact film original obviously le mysterious yet much cheesier incredibly 80 nth degree main difference like title imply liberate wife also rebellious punk teenage offspring town undergo typical highly effective stepford treatment license local men association reason scenario attempt uphold stepford mystery late film even though nobody likely watch sequel check original presumably everybody also know denouement harding family pack ready move grisly city new york small peaceful community stepford. particularly father steven excite new life already live stepford always want go back ever since first wife, new wife laura adolescent child mary david know little about, die mysterious circumstances. town almost perfect, picturesque neighbor model students, especially modern teenager face huge difficulty adjust. effort modernize place take local youth stanford tow cause confrontation eminent townsfolk, particularly member men's association, put familial relationship lot stress. david meet fall love last \"normal\" girl school lois, even transform domestic dummy overnight, david convince skeptical mother investigate sinister stanford secret. first hour \"the stanford children\" slow-paced rather tame, finale trashy cheesy like vhs cover promise like late 80's thriller ought be, fact. modus operandi behind stanford secret illustrate greater detail, think horror fan lover original film appreciate that. least, did. overall plot still make lot sense script chock-full irrational aspects, nonetheless engage formula undoubtedly one evoke atmosphere suspense fear. act performance far average. especially arrogant obnoxious member men's association depict plausible character even teenage player tammy lauren randall batinkoff give away impressive performances. recommend without hesitation!\n",
            "Actual Labeled Sentiment: 1\n",
            "Predicted Sentiment: 1\n",
            "\n",
            "Review:-\n",
            "film faithful book upon base judge timespanning 2007 adaptation khaled hosseinis huge 2003 seller answer rather ironically yes like many wa enthral book impressive first effort afghanamerican writerphysician obviously director marc forster stranger fiction screenwriter david benioff troy pay meticulous attention significant detail story within film 127minute run time yet seamless tapestry heartfelt event hosseinis novel often come across episodic truncate forster benioff sincerely try hard remain true full scope story within time constraint part challenge hosseini carefully use symbolic act provide literary thenandnow symmetry essentially threeact story technique come across somewhat contrive screen.<br /><br />however, filmmaker important thing right, specifically give viewer intimate look hide culture heretofore convey cnn news reports, ensure authenticity character speak dari persian dialect afghan language, capture emotional entanglement complex narrative. first part movie set 1978 afghanistan soviet invasion eventual takeover taliban. focus relationship amir, son affluent businessman name baba, devote hassan, son father's servant. connect mutual love kite running, two thick thief tragic event separate irreparably. unable find courage come naturally father, amir cripple guilt rescue hassan unspeakable act perform trio local bullies. forster make especially palpable ethnic tension hazara pashtun afghanistan.<br /><br />upon 1979 invasion soviet troops, amir baba flee u.s. story pick story nine year later fremont, california, suburban enclave afghan émigrés. baba reduce work gas station operate flea market kiosk. amir meet local afghan girl marries. film's least interest passage since benioff's treatment give short shrift ancillary character like amir's wife soraya critically, amir portray necessity reticent young man downward cast toward self-esteem. final section flash forward twelve year amir, upon publication first book, summon back taliban-dictated afghanistan rescue hassan's son taliban, mean atone cowardice year earlier. true suspense fear generate portion story shock revelation old acquaintance come back haunt amir journey.<br /><br />a british actor egyptian heritage, khalid abdalla (the lead hijacker \"united 93\") ha central role amir adult, challenge role since ha convey constant sense shame diminish self-worth end. professional actor fare better - shaun toub (tony stark's savior yinsen current \"iron man\") baba's business partner rahim khan, hold key truth; atossa leoni quietly affect soraya; best all, iranian actor homayoun ershadi bring pride dignity baba. three young non-professionals recruit kabul's school system play key child roles, quite good. zekeria ebrahimi challenge toughest part young amir, ali danish bakhtyari poignant hassan's nearly catatonic son sohrab. sad-eyed, moon-faced ahmad khan mahmoodzada break heart young hassan, especially devastate pomegranate-throwing scene. fair say performance par young enzo staiola's vittorio de sica's classic \"bicycle thieves\".<br /><br />the technical aspect well done, particular, roberto schaefer's clean cinematography (western china convincingly substitute afghanistan), alberto iglesias' evocative score, even cgi effect showcasing kite turbulent flight. 2008 dvd ha solid set extra begin insightful commentary forster, hosseini, benioff, although dialogue seem rather forced. two featurettes include - first 14-minute \"words kite runner\", focus hosseini's connection story development novel, second 25-minute \"images kite runner\", standard behind-the-scenes look production. round extra original theatrical trailer, previews, psa hosseini help afghan current time need.\n",
            "Actual Labeled Sentiment: 1\n",
            "Predicted Sentiment: 1\n",
            "\n",
            "Review:-\n",
            "perfect murder foil wifeplayed mary ellen trainor wife director robert zemeckis helm episode murder husband poker ha misfortune receive visitor move body outsidean escape insane madman dress santa claus suitplayed deviously hideous larry drake fend life try find way hide husband corpse decide use ax santa killer miss several chance chop woman head frame killer husband murder santa killer lock closet pursue woman daughter try desperate free save childbr br episode tale crypt recycle tire material involve old santa kill theme also add oftusedadd nauseumwomanmurders-her-husband-for-a-man-she's-been-cheating-with routine. essentially trainor try find way avoid catch dead body kill also keep safe distance maniac. there's nothing refresh new plot pretty much go motions. one show's highlights.\n",
            "Actual Labeled Sentiment: 0\n",
            "Predicted Sentiment: 0\n",
            "\n",
            "Review:-\n",
            "turn woman romancesoapsuspense film hop wassimply tense thriller yes final 20 minute suspenseful much previous 75 border plain tediousbr br ruter hauer wa little subdue play normal intense character natasha richardson sport somewhat dumb look time character wa unappealingbr br story soso bad im make sure isnt anything id watch again, back vhs describe movie wa misleading.\n",
            "Actual Labeled Sentiment: 0\n",
            "Predicted Sentiment: 0\n",
            "\n",
            "Review:-\n",
            "wasnt impress film find quite tiresome plain plot line wa interest kid create college enrol hundred kid laugh far joke werent really funny didnt bust gut scene character werent intrigue didnt feel even dawky fat kid glass try enter frat group wa good first watch didnt blow away one would recommend compare film genre ie american pie cruel film wa laughaplenty accept fail raise smile\n",
            "Actual Labeled Sentiment: 0\n",
            "Predicted Sentiment: 0\n",
            "\n",
            "Review:-\n",
            "seem shame greta garbo end illustrious career age 36 ridiculous mistakenidentity marital romp come success first romantic comedy ernst lubitsch masterful ninotchka 1939 wa ideally cast austere russian envoy garbo reunite lead man melvyn douglas sitcomlevel story ha play karin borg plainjane ski instructor impulsively marry publish executive larry blake become smite make clear work priority karin inadvertently decide masquerade highliving twin sister katherine test husband fidelity back manhattanbr br surprise infamous 1941 misfire wa direct george cukor lead garbo greatest dramatic performance 1937s camille unflattering vehicle one could imagine screen legend someone carole lombard natural sense ease mischief could get away shenanigan present by-the-numbers script s.n. behrman, salka viertel george oppenheimer. mgm's intent behind comedy wa contemporize americanize garbo's image wartime audience studio head felt interest tragic period character favor thirties.<br /><br />however, garbo appear ill-at-ease mostly bogus party girl katherine especially compare expert farceurs like douglas constance bennett romantic rival griselda. photograph unflatteringly joseph ruttenberg, garbo look tire many scene downright hideous tease hairdo \"chica-choca\" dance sequence. story end conventionally addition lengthy physical sequence larry try maneuver ski series mountain cliff unfortunately remind sonny bono's death. roland young ruth gordon (in rare appearance point career) show comic support role douglas' associates. movie yet dvd, consider priority transfer represent curio garbo's otherwise legendary career. wa reportedly quite unhappy filming. see why.\n",
            "Actual Labeled Sentiment: 0\n",
            "Predicted Sentiment: 0\n",
            "\n",
            "Review:-\n",
            "wish could meet ida lupino people ask could 6 extraordinary 20th century person dinner well one person would think one great unsung unprofiled personality film industry life story would make great tele movie hey mr bogdanovich ida lupino ha drive force many fascinate noir film 40 50 remember sadden see reduce horrible part ghastly aip film late 70 wa bite big worm kitchen sink ugh contact die long part worm high sierra roadhouse extraordinary rko thriller dangerous grind ida lupino wa often producer lead actress later husband howard duff produce many timeless noir drama still engross today one jennifer think last film monogram picture copyright monogram change company name formally ally artist 1953 jennifer ha company name open credit superior haunt house thriller equally scary innocent haunt make 8 year later really chill creepy, tiny film exactly sort really good film ida lupino make wa responsible for. try find it...you always remember feel, much admiration great almost forget actress/producer.\n",
            "Actual Labeled Sentiment: 1\n",
            "Predicted Sentiment: 1\n",
            "\n",
            "Review:-\n",
            "tyra  rest model world need know real woman like daughter dont care see ridiculous model sell something weird location much makeup  much skin necessary sex doe always sell sell woman go horse stomp runway walk look unnatural people come shape  size  need show daughter ha 36 inseam tall  slender  size 5 average size 12 would like see picture something would look size 2 wear fit way buy magazine anymore one side matter would really love show consider woman size thank\n",
            "Actual Labeled Sentiment: 0\n",
            "Predicted Sentiment: 0\n",
            "\n"
          ],
          "name": "stdout"
        }
      ]
    },
    {
      "metadata": {
        "id": "2G1bgAkptJLC",
        "colab_type": "code",
        "outputId": "31791c4f-d479-4f5d-b102-2d54405887b2",
        "colab": {
          "base_uri": "https://localhost:8080/",
          "height": 34
        }
      },
      "cell_type": "code",
      "source": [
        "svm.score(test_features,test_sentiments)"
      ],
      "execution_count": 18,
      "outputs": [
        {
          "output_type": "execute_result",
          "data": {
            "text/plain": [
              "0.895"
            ]
          },
          "metadata": {
            "tags": []
          },
          "execution_count": 18
        }
      ]
    },
    {
      "metadata": {
        "id": "rg-5Jfi9tJLG",
        "colab_type": "code",
        "outputId": "7792b079-9d88-486d-cc74-8339f4becda7",
        "colab": {
          "base_uri": "https://localhost:8080/",
          "height": 34
        }
      },
      "cell_type": "code",
      "source": [
        "predicted_sentiments = svm.predict(test_features) \n",
        "predicted_sentiments"
      ],
      "execution_count": 19,
      "outputs": [
        {
          "output_type": "execute_result",
          "data": {
            "text/plain": [
              "array([1, 1, 0, ..., 1, 1, 0])"
            ]
          },
          "metadata": {
            "tags": []
          },
          "execution_count": 19
        }
      ]
    },
    {
      "metadata": {
        "id": "Q9xlnc7FtJLK",
        "colab_type": "code",
        "colab": {}
      },
      "cell_type": "code",
      "source": [
        "from sklearn import metrics\n",
        "\n",
        "def display_evaluation_metrics(true_labels, predicted_labels, positive_class=1):\n",
        "    \n",
        "    print ('Accuracy:', np.round(\n",
        "                        metrics.accuracy_score(true_labels, \n",
        "                                               predicted_labels),\n",
        "                        2))\n",
        "    print ('Precision:', np.round(\n",
        "                        metrics.precision_score(true_labels, \n",
        "                                               predicted_labels,\n",
        "                                               pos_label=positive_class,\n",
        "                                               average='binary'),\n",
        "                        2))\n",
        "    print ('Recall:', np.round(\n",
        "                        metrics.recall_score(true_labels, \n",
        "                                               predicted_labels,\n",
        "                                               pos_label=positive_class,\n",
        "                                               average='binary'),\n",
        "                        2))\n",
        "    print ('F1 Score:', np.round(\n",
        "                        metrics.f1_score(true_labels, \n",
        "                                               predicted_labels,\n",
        "                                               pos_label=positive_class,\n",
        "                                               average='binary'),\n",
        "                        2))\n",
        "                        \n",
        "def display_confusion_matrix(true_labels, predicted_labels, classes=[1,0]):\n",
        "    \n",
        "    cm = metrics.confusion_matrix(y_true=true_labels, \n",
        "                                  y_pred=predicted_labels, \n",
        "                                  labels=classes)\n",
        "    cm_frame = pd.DataFrame(data=cm, \n",
        "                            columns=pd.MultiIndex(levels=[['Predicted:'], classes], \n",
        "                                                  labels=[[0,0],[0,1]]), \n",
        "                            index=pd.MultiIndex(levels=[['Actual:'], classes], \n",
        "                                                labels=[[0,0],[0,1]])) \n",
        "    print( cm_frame)                            \n",
        "\n",
        "\n",
        "def display_classification_report(true_labels, predicted_labels, classes=[1,0]):\n",
        "\n",
        "    report = metrics.classification_report(y_true=true_labels, \n",
        "                                           y_pred=predicted_labels, \n",
        "                                           labels=classes) \n",
        "    print (report)"
      ],
      "execution_count": 0,
      "outputs": []
    },
    {
      "metadata": {
        "id": "TLo5gStutJLN",
        "colab_type": "code",
        "outputId": "c48982cf-694e-4044-8afd-953c86dcf7a9",
        "colab": {
          "base_uri": "https://localhost:8080/",
          "height": 87
        }
      },
      "cell_type": "code",
      "source": [
        "display_evaluation_metrics(true_labels=test_sentiments,\n",
        "                           predicted_labels=predicted_sentiments,\n",
        "                           positive_class=1)  \n",
        "                           "
      ],
      "execution_count": 21,
      "outputs": [
        {
          "output_type": "stream",
          "text": [
            "Accuracy: 0.9\n",
            "Precision: 0.88\n",
            "Recall: 0.91\n",
            "F1 Score: 0.9\n"
          ],
          "name": "stdout"
        }
      ]
    },
    {
      "metadata": {
        "id": "yGOOYyU-tJLR",
        "colab_type": "code",
        "outputId": "96648bb1-6e8f-488d-b935-ea95a365753c",
        "colab": {
          "base_uri": "https://localhost:8080/",
          "height": 122
        }
      },
      "cell_type": "code",
      "source": [
        "display_confusion_matrix(true_labels=test_sentiments,\n",
        "                         predicted_labels=predicted_sentiments,\n",
        "                         classes=[1, 0])\n",
        "                         \n"
      ],
      "execution_count": 22,
      "outputs": [
        {
          "output_type": "stream",
          "text": [
            "          Predicted:      \n",
            "                   1     0\n",
            "Actual: 1       6827   645\n",
            "        0        930  6598\n"
          ],
          "name": "stdout"
        },
        {
          "output_type": "stream",
          "text": [
            "/usr/local/lib/python3.6/dist-packages/ipykernel_launcher.py:35: FutureWarning: the 'labels' keyword is deprecated, use 'codes' instead\n",
            "/usr/local/lib/python3.6/dist-packages/ipykernel_launcher.py:37: FutureWarning: the 'labels' keyword is deprecated, use 'codes' instead\n"
          ],
          "name": "stderr"
        }
      ]
    },
    {
      "metadata": {
        "id": "IZ0434DUtJLX",
        "colab_type": "code",
        "outputId": "12656602-2b4f-4857-f221-8fdefcbc4a09",
        "colab": {
          "base_uri": "https://localhost:8080/",
          "height": 175
        }
      },
      "cell_type": "code",
      "source": [
        "display_classification_report(true_labels=test_sentiments,\n",
        "                              predicted_labels=predicted_sentiments,\n",
        "                              classes=[1, 0]) "
      ],
      "execution_count": 23,
      "outputs": [
        {
          "output_type": "stream",
          "text": [
            "              precision    recall  f1-score   support\n",
            "\n",
            "           1       0.88      0.91      0.90      7472\n",
            "           0       0.91      0.88      0.89      7528\n",
            "\n",
            "   micro avg       0.90      0.90      0.90     15000\n",
            "   macro avg       0.90      0.90      0.89     15000\n",
            "weighted avg       0.90      0.90      0.89     15000\n",
            "\n"
          ],
          "name": "stdout"
        }
      ]
    },
    {
      "metadata": {
        "id": "SwTuy-EntJLc",
        "colab_type": "code",
        "colab": {}
      },
      "cell_type": "code",
      "source": [
        "\n",
        "import pickle\n",
        "svm_pkl_filename='svm_classifier.pkl'\n",
        "svm_pkl=open(svm_pkl_filename,'wb')\n",
        "pickle.dump(svm,svm_pkl)\n",
        "svm_pkl.close()\n"
      ],
      "execution_count": 0,
      "outputs": []
    },
    {
      "metadata": {
        "id": "WdlJGbU2tJLl",
        "colab_type": "code",
        "colab": {}
      },
      "cell_type": "code",
      "source": [
        "with open('vectorizer.pkl','wb') as f:\n",
        "    pickle.dump(vectorizer,f)"
      ],
      "execution_count": 0,
      "outputs": []
    },
    {
      "metadata": {
        "id": "pd1N1uF3tJLt",
        "colab_type": "code",
        "outputId": "b34832f3-e1a6-4c8b-dd72-cc1bf59de28a",
        "colab": {
          "base_uri": "https://localhost:8080/",
          "height": 122
        }
      },
      "cell_type": "code",
      "source": [
        "#load the model\n",
        "svm_pkl=open('svm_classifier.pkl','rb')\n",
        "svm=pickle.load(svm_pkl)\n",
        "print(\"Loaded the model \", svm)\n",
        "\n"
      ],
      "execution_count": 26,
      "outputs": [
        {
          "output_type": "stream",
          "text": [
            "Loaded the model  SGDClassifier(alpha=0.0001, average=False, class_weight=None,\n",
            "       early_stopping=False, epsilon=0.1, eta0=0.0, fit_intercept=True,\n",
            "       l1_ratio=0.15, learning_rate='optimal', loss='hinge', max_iter=None,\n",
            "       n_iter=500, n_iter_no_change=5, n_jobs=None, penalty='l2',\n",
            "       power_t=0.5, random_state=None, shuffle=True, tol=None,\n",
            "       validation_fraction=0.1, verbose=0, warm_start=False)\n"
          ],
          "name": "stdout"
        }
      ]
    },
    {
      "metadata": {
        "id": "CdIKX9MtA7io",
        "colab_type": "code",
        "outputId": "de19bc85-4c51-4db8-c987-605d0b88ad36",
        "colab": {
          "base_uri": "https://localhost:8080/",
          "height": 140
        }
      },
      "cell_type": "code",
      "source": [
        "vectorizer_pkl=open('vectorizer.pkl','rb')\n",
        "vectorizer=pickle.load(vectorizer_pkl)\n",
        "print(\"Loaded the model \", vectorizer)"
      ],
      "execution_count": 27,
      "outputs": [
        {
          "output_type": "stream",
          "text": [
            "Loaded the model  TfidfVectorizer(analyzer='word', binary=False, decode_error='strict',\n",
            "        dtype=<class 'numpy.float64'>, encoding='utf-8', input='content',\n",
            "        lowercase=True, max_df=1.0, max_features=None, min_df=0.0,\n",
            "        ngram_range=(1, 1), norm='l2', preprocessor=None, smooth_idf=True,\n",
            "        stop_words=None, strip_accents=None, sublinear_tf=False,\n",
            "        token_pattern='(?u)\\\\b\\\\w\\\\w+\\\\b', tokenizer=None, use_idf=True,\n",
            "        vocabulary=None)\n"
          ],
          "name": "stdout"
        }
      ]
    },
    {
      "metadata": {
        "id": "z7lUjd3-A-96",
        "colab_type": "code",
        "outputId": "6b822aae-d5f9-4393-8c7a-0dc195714af3",
        "colab": {
          "base_uri": "https://localhost:8080/",
          "height": 34
        }
      },
      "cell_type": "code",
      "source": [
        "t=[\"i am bad\"]\n",
        "svm.predict(vectorizer.transform(t))"
      ],
      "execution_count": 28,
      "outputs": [
        {
          "output_type": "execute_result",
          "data": {
            "text/plain": [
              "array([0])"
            ]
          },
          "metadata": {
            "tags": []
          },
          "execution_count": 28
        }
      ]
    },
    {
      "metadata": {
        "id": "IYR4ImUG2m4D",
        "colab_type": "code",
        "outputId": "9840cb34-bc4a-4e8c-dc73-e28b8ea7b4b4",
        "colab": {
          "base_uri": "https://localhost:8080/",
          "height": 281
        }
      },
      "cell_type": "code",
      "source": [
        "!pip install Scikit-plot"
      ],
      "execution_count": 29,
      "outputs": [
        {
          "output_type": "stream",
          "text": [
            "Collecting Scikit-plot\n",
            "  Downloading https://files.pythonhosted.org/packages/7c/47/32520e259340c140a4ad27c1b97050dd3254fdc517b1d59974d47037510e/scikit_plot-0.3.7-py3-none-any.whl\n",
            "Requirement already satisfied: matplotlib>=1.4.0 in /usr/local/lib/python3.6/dist-packages (from Scikit-plot) (3.0.3)\n",
            "Requirement already satisfied: scikit-learn>=0.18 in /usr/local/lib/python3.6/dist-packages (from Scikit-plot) (0.20.3)\n",
            "Requirement already satisfied: scipy>=0.9 in /usr/local/lib/python3.6/dist-packages (from Scikit-plot) (1.2.1)\n",
            "Requirement already satisfied: joblib>=0.10 in /usr/local/lib/python3.6/dist-packages (from Scikit-plot) (0.12.5)\n",
            "Requirement already satisfied: numpy>=1.10.0 in /usr/local/lib/python3.6/dist-packages (from matplotlib>=1.4.0->Scikit-plot) (1.16.3)\n",
            "Requirement already satisfied: python-dateutil>=2.1 in /usr/local/lib/python3.6/dist-packages (from matplotlib>=1.4.0->Scikit-plot) (2.5.3)\n",
            "Requirement already satisfied: pyparsing!=2.0.4,!=2.1.2,!=2.1.6,>=2.0.1 in /usr/local/lib/python3.6/dist-packages (from matplotlib>=1.4.0->Scikit-plot) (2.4.0)\n",
            "Requirement already satisfied: kiwisolver>=1.0.1 in /usr/local/lib/python3.6/dist-packages (from matplotlib>=1.4.0->Scikit-plot) (1.0.1)\n",
            "Requirement already satisfied: cycler>=0.10 in /usr/local/lib/python3.6/dist-packages (from matplotlib>=1.4.0->Scikit-plot) (0.10.0)\n",
            "Requirement already satisfied: six>=1.5 in /usr/local/lib/python3.6/dist-packages (from python-dateutil>=2.1->matplotlib>=1.4.0->Scikit-plot) (1.12.0)\n",
            "Requirement already satisfied: setuptools in /usr/local/lib/python3.6/dist-packages (from kiwisolver>=1.0.1->matplotlib>=1.4.0->Scikit-plot) (40.9.0)\n",
            "Installing collected packages: Scikit-plot\n",
            "Successfully installed Scikit-plot-0.3.7\n"
          ],
          "name": "stdout"
        }
      ]
    },
    {
      "metadata": {
        "id": "4LVH1oSHtJMI",
        "colab_type": "code",
        "outputId": "17bdf681-e479-4742-ca5b-14afb93646c7",
        "colab": {
          "base_uri": "https://localhost:8080/",
          "height": 313
        }
      },
      "cell_type": "code",
      "source": [
        "import scikitplot as skplt\n",
        "skplt.metrics.plot_confusion_matrix(test_sentiments,predicted_sentiments, normalize=True)"
      ],
      "execution_count": 30,
      "outputs": [
        {
          "output_type": "execute_result",
          "data": {
            "text/plain": [
              "<matplotlib.axes._subplots.AxesSubplot at 0x7f429055cb00>"
            ]
          },
          "metadata": {
            "tags": []
          },
          "execution_count": 30
        },
        {
          "output_type": "display_data",
          "data": {
            "image/png": "[encoded data removed]",
            "text/plain": [
              "<Figure size 432x288 with 2 Axes>"
            ]
          },
          "metadata": {
            "tags": []
          }
        }
      ]
    },
    {
      "metadata": {
        "id": "YFJfBS8htJMK",
        "colab_type": "code",
        "colab": {}
      },
      "cell_type": "code",
      "source": [
        "import matplotlib.pyplot as plt\n",
        "import seaborn as sns"
      ],
      "execution_count": 0,
      "outputs": []
    },
    {
      "metadata": {
        "id": "cpl7kwyp3oda",
        "colab_type": "code",
        "outputId": "81fadeea-db56-424a-98b8-ddfef1dcd3bf",
        "colab": {
          "base_uri": "https://localhost:8080/",
          "height": 70
        }
      },
      "cell_type": "code",
      "source": [
        "df['sentiment'].value_counts()"
      ],
      "execution_count": 32,
      "outputs": [
        {
          "output_type": "execute_result",
          "data": {
            "text/plain": [
              "1    25000\n",
              "0    25000\n",
              "Name: sentiment, dtype: int64"
            ]
          },
          "metadata": {
            "tags": []
          },
          "execution_count": 32
        }
      ]
    },
    {
      "metadata": {
        "id": "W-FBb8CUtJMQ",
        "colab_type": "code",
        "outputId": "7ad1fc60-ffe3-4459-940b-8ab355973855",
        "colab": {
          "base_uri": "https://localhost:8080/",
          "height": 318
        }
      },
      "cell_type": "code",
      "source": [
        "sns.countplot(data=df, x = 'sentiment', label='Count')\n",
        "\n",
        "p, n = df['sentiment'].value_counts()\n",
        "print('Count of Positive sentiment ',p)\n",
        "print('Count of negative sentimet ',n)\n",
        "\n"
      ],
      "execution_count": 33,
      "outputs": [
        {
          "output_type": "stream",
          "text": [
            "Count of Positive sentiment  25000\n",
            "Count of negative sentimet  25000\n"
          ],
          "name": "stdout"
        },
        {
          "output_type": "display_data",
          "data": {
            "image/png": "[encoded data removed]",
            "text/plain": [
              "<Figure size 432x288 with 1 Axes>"
            ]
          },
          "metadata": {
            "tags": []
          }
        }
      ]
    },
    {
      "metadata": {
        "id": "rKWLaozv4CMg",
        "colab_type": "code",
        "colab": {}
      },
      "cell_type": "code",
      "source": [
        ""
      ],
      "execution_count": 0,
      "outputs": []
    },
    {
      "metadata": {
        "id": "rBsXOFC34PIe",
        "colab_type": "code",
        "colab": {}
      },
      "cell_type": "code",
      "source": [
        ""
      ],
      "execution_count": 0,
      "outputs": []
    }
  ]
}